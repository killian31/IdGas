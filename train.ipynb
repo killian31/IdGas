{
 "cells": [
  {
   "cell_type": "markdown",
   "metadata": {},
   "source": [
    "# Training models"
   ]
  },
  {
   "cell_type": "markdown",
   "metadata": {},
   "source": [
    "## Imports"
   ]
  },
  {
   "cell_type": "code",
   "execution_count": 1,
   "metadata": {},
   "outputs": [],
   "source": [
    "import os\n",
    "\n",
    "os.environ[\"KMP_DUPLICATE_LIB_OK\"] = \"True\"\n",
    "from data_preprocessing import (\n",
    "    full_pipeline,\n",
    "    split_classif_reg_targets,\n",
    ")\n",
    "from random_forest import run_experiment as run_random_forest_experiment\n",
    "from random_forest import benchmark_random_forest\n",
    "from two_stage import run_experiment as run_two_stage_experiment\n",
    "from two_stage import benchmark_2s_model_grid, benchmark_2s_param_grid\n",
    "from xg_boost import run_experiment as run_xgboost_experiment\n",
    "from xg_boost import benchmark_xgboost\n",
    "from nn import run_experiment as run_nn_experiment\n",
    "from nn import  submit_nn\n",
    "from linreg import run_experiment as run_linreg_experiment\n",
    "from utils import write_submissions, evaluate_model, stratify_by_humidity\n",
    "import torch"
   ]
  },
  {
   "cell_type": "markdown",
   "metadata": {},
   "source": [
    "## Load and prepare data"
   ]
  },
  {
   "cell_type": "code",
   "execution_count": 2,
   "metadata": {},
   "outputs": [],
   "source": [
    "data_dir = \"./data/\"\n",
    "train_x_path = os.path.join(data_dir, \"x_train_T9QMMVq.csv\")\n",
    "train_y_path = os.path.join(data_dir, \"y_train_R0MqWmu.csv\")\n",
    "test_x_path = os.path.join(data_dir, \"x_test_9F13O5s.csv\")"
   ]
  },
  {
   "cell_type": "code",
   "execution_count": null,
   "metadata": {},
   "outputs": [
    {
     "name": "stdout",
     "output_type": "stream",
     "text": [
      "X train shape: (163548, 14)\n",
      "Y train shape: (163548, 23)\n",
      "X val shape: (39385, 14)\n",
      "Y val shape: (39385, 23)\n",
      "---\n",
      "X test shape: (134673, 14)\n",
      "---\n"
     ]
    }
   ],
   "source": [
    "params_pipeline = {\n",
    "    \"split_humidity\": True,\n",
    "    \"h_threshold\": 0.211,\n",
    "    \"split\": False,\n",
    "    \"val_proportion\": 0.75,\n",
    "    \"rescale\": False,\n",
    "    \"reduce_features\": False,\n",
    "    \"augment\": False,\n",
    "    \"apply_feat_eng\": False,\n",
    "    \"polynomial_degree\": 2,\n",
    "    \"include_group_interactions\": True,\n",
    "    \"include_humidity_interactions\": True,\n",
    "    \"feature_selection\": False,\n",
    "    \"k_features\": 30,\n",
    "    \"remove_outliers\": False,\n",
    "    \"k\": 10.0,\n",
    "    \"binarize_humidity\": False,\n",
    "    \"n_bins\": 5,\n",
    "    \"remove_humidity\": False,\n",
    "}\n",
    "\n",
    "test_params_pipeline = params_pipeline.copy()\n",
    "test_params_pipeline[\"split\"] = False\n",
    "test_params_pipeline[\"split_humidity\"] = False\n",
    "\n",
    "x_train, y_train, x_val, y_val = full_pipeline(\n",
    "    train_x_path, train_y_path, **params_pipeline\n",
    ")\n",
    "x_test = full_pipeline(test_x_path, None, **test_params_pipeline)\n",
    "\n",
    "# Create stratified validation sets\n",
    "# x_val_strata, y_val_strata, labels = stratify_by_humidity(x_val, y_val, n_strata=5)\n",
    "\n",
    "print(\"X train shape:\", x_train.shape)\n",
    "print(\"Y train shape:\", y_train.shape)\n",
    "print(\"X val shape:\", x_val.shape)\n",
    "print(\"Y val shape:\", y_val.shape)\n",
    "print(\"---\")\n",
    "print(\"X test shape:\", x_test.shape)\n",
    "print(\"---\")"
   ]
  },
  {
   "cell_type": "code",
   "execution_count": 3,
   "metadata": {},
   "outputs": [
    {
     "name": "stdout",
     "output_type": "stream",
     "text": [
      "Train shape: (163548, 40)\n",
      "Val shape: (39385, 40)\n"
     ]
    }
   ],
   "source": [
    "params_pipeline_feateng = {\n",
    "    \"split_humidity\": True,\n",
    "    \"h_threshold\": 0.211,\n",
    "    \"split\": False,\n",
    "    \"val_proportion\": 0.75,\n",
    "    \"rescale\": False,\n",
    "    \"reduce_features\": False,\n",
    "    \"augment\": False,\n",
    "    \"apply_feat_eng\": True,\n",
    "    \"polynomial_degree\": 1,\n",
    "    \"include_group_interactions\": False,\n",
    "    \"include_humidity_interactions\": True,\n",
    "    \"feature_selection\": False,\n",
    "    \"k_features\": 30,\n",
    "    \"remove_outliers\": False,\n",
    "    \"k\": 10.0,\n",
    "    \"binarize_humidity\": False,\n",
    "    \"n_bins\": 5,\n",
    "    \"remove_humidity\": False,\n",
    "}\n",
    "\n",
    "feat_eng = True\n",
    "if feat_eng:\n",
    "    x_train_eng, y_train_eng, x_val_eng, y_val_eng = full_pipeline(\n",
    "        train_x_path, train_y_path, **params_pipeline_feateng\n",
    "    )\n",
    "    x_test_eng = full_pipeline(test_x_path, None, **params_pipeline_feateng)\n",
    "else:\n",
    "    x_train_eng, y_train_eng, x_val_eng, y_val_eng = x_train, y_train, x_val, y_val\n",
    "    x_test_eng = x_test\n",
    "print(\"Train shape:\", x_train_eng.shape)\n",
    "print(\"Val shape:\", x_val_eng.shape)\n",
    "assert x_train_eng.shape[1] == x_test_eng.shape[1], (\n",
    "    f\"x_train and x_test have different number of features: \"\n",
    "    f\"{x_train_eng.shape[1]} != {x_test_eng.shape[1]}.\"\n",
    "    f\"'ID' in train: {('ID' in x_train_eng.columns)},\"\n",
    "    f\"'ID' in test: {('ID' in x_test_eng.columns)}.\"\n",
    ")"
   ]
  },
  {
   "cell_type": "markdown",
   "metadata": {},
   "source": [
    "## Standard Regressors"
   ]
  },
  {
   "cell_type": "markdown",
   "metadata": {},
   "source": [
    "### Random Forest Regressor"
   ]
  },
  {
   "cell_type": "code",
   "execution_count": 4,
   "metadata": {},
   "outputs": [
    {
     "name": "stdout",
     "output_type": "stream",
     "text": [
      "Basic Random Forest\n",
      "Training Weighted RMSE: 0.1161\n",
      "Validation Weighted RMSE: 0.1556\n"
     ]
    }
   ],
   "source": [
    "print(\"Basic Random Forest\")\n",
    "rf_model = run_random_forest_experiment(x_train, y_train, x_val, y_val)"
   ]
  },
  {
   "cell_type": "code",
   "execution_count": 21,
   "metadata": {},
   "outputs": [
    {
     "name": "stdout",
     "output_type": "stream",
     "text": [
      "Basic Random Forest with Feature Engineering\n",
      "Training Weighted RMSE: 0.1108\n",
      "Validation Weighted RMSE: 0.1455\n"
     ]
    }
   ],
   "source": [
    "print(\"Basic Random Forest with Feature Engineering\")\n",
    "rf_model_eng = run_random_forest_experiment(x_train_eng, y_train_eng, x_val_eng, y_val_eng)"
   ]
  },
  {
   "cell_type": "code",
   "execution_count": 24,
   "metadata": {},
   "outputs": [
    {
     "data": {
      "text/plain": [
       "Index(['ID', 'Humidity', 'M12', 'M13', 'M14', 'M15', 'M4', 'M5', 'M6', 'M7',\n",
       "       'R', 'S1', 'S2', 'S3', 'Humidity_squared', 'Humidity_sqrt',\n",
       "       'Humidity_M12_product', 'Humidity_M13_product', 'Humidity_M14_product',\n",
       "       'Humidity_M15_product', 'Humidity_M4_product', 'Humidity_M5_product',\n",
       "       'Humidity_M6_product', 'Humidity_M7_product', 'Humidity_R_product',\n",
       "       'Humidity_S1_product', 'Humidity_S2_product', 'Humidity_S3_product',\n",
       "       'Humidity_M12_ratio', 'Humidity_M13_ratio', 'Humidity_M14_ratio',\n",
       "       'Humidity_M15_ratio', 'Humidity_M4_ratio', 'Humidity_M5_ratio',\n",
       "       'Humidity_M6_ratio', 'Humidity_M7_ratio', 'Humidity_R_ratio',\n",
       "       'Humidity_S1_ratio', 'Humidity_S2_ratio', 'Humidity_S3_ratio'],\n",
       "      dtype='object')"
      ]
     },
     "execution_count": 24,
     "metadata": {},
     "output_type": "execute_result"
    }
   ],
   "source": [
    "x_train_eng.columns"
   ]
  },
  {
   "cell_type": "code",
   "execution_count": null,
   "metadata": {},
   "outputs": [],
   "source": [
    "param_grid = {\n",
    "    \"n_estimators\": [50, 100, 200],\n",
    "    \"max_depth\": [7, 10, 15, None],\n",
    "    \"min_samples_split\": [0.005, 0.01, 0.02],\n",
    "    \"min_samples_leaf\": [20, 30, 50],\n",
    "}\n",
    "benchmark = False\n",
    "if benchmark:\n",
    "    try:\n",
    "        best_model_rf, best_params_rf, best_val_rmse_rf = benchmark_random_forest(\n",
    "            x_train,\n",
    "            y_train,\n",
    "            x_val,\n",
    "            y_val,\n",
    "            param_grid=param_grid,\n",
    "            verbose=False,\n",
    "            subset_humidity=False,\n",
    "        )\n",
    "    except KeyboardInterrupt:\n",
    "        print(\"KeyboardInterrupt: Stopping the benchmarking process.\")"
   ]
  },
  {
   "cell_type": "code",
   "execution_count": 4,
   "metadata": {},
   "outputs": [
    {
     "name": "stdout",
     "output_type": "stream",
     "text": [
      "Training Weighted RMSE: 0.0687\n",
      "Validation Weighted RMSE: 0.1169\n"
     ]
    }
   ],
   "source": [
    "best_params = {\n",
    "    \"n_estimators\": 100,\n",
    "    \"max_depth\": None,\n",
    "    \"min_samples_split\": 0.005,\n",
    "    \"min_samples_leaf\": 20,\n",
    "    \"random_state\": 29,\n",
    "    \"n_jobs\": -1,\n",
    "}\n",
    "\n",
    "best_rf_model = run_random_forest_experiment(\n",
    "    x_train, y_train, x_val, y_val, params=best_params\n",
    ")"
   ]
  },
  {
   "cell_type": "markdown",
   "metadata": {},
   "source": [
    "### XGBoost"
   ]
  },
  {
   "cell_type": "code",
   "execution_count": 5,
   "metadata": {},
   "outputs": [],
   "source": [
    "param_grid = {\n",
    "    \"n_estimators\": [100],\n",
    "    \"max_depth\": [7, 10, 15],\n",
    "    \"learning_rate\": [0.05, 0.1, 0.2],\n",
    "    \"subsample\": [0.7, 0.8, 0.9],\n",
    "    \"colsample_bytree\": [0.7, 0.8, 0.9],\n",
    "    # \"min_child_weight\": [5, 10, 15],\n",
    "    # \"gamma\": [0, 0.1, 0.2],\n",
    "    # \"reg_alpha\": [0, 0.1, 0.2],\n",
    "    # \"reg_lambda\": [1, 1.5, 2],\n",
    "}\n",
    "benchmark=False\n",
    "if benchmark:\n",
    "    best_xgb_model, best_xgb_params, best_val_rmse_xgb = benchmark_xgboost(\n",
    "        x_train,\n",
    "        y_train,\n",
    "        x_val,\n",
    "        y_val,\n",
    "        param_grid=param_grid,\n",
    "        verbose=False,\n",
    "        subset_humidity=False,\n",
    "    )"
   ]
  },
  {
   "cell_type": "code",
   "execution_count": 4,
   "metadata": {},
   "outputs": [
    {
     "name": "stdout",
     "output_type": "stream",
     "text": [
      "{'n_estimators': 100, 'max_depth': 7, 'learning_rate': 0.1, 'subsample': 0.8, 'colsample_bytree': 0.8, 'random_state': 29, 'n_jobs': -1, 'tree_method': 'approx', 'max_bin': 64, 'scale_pos_weight': 1, 'process_type': 'default', 'predictor': 'cpu_predictor', 'grow_policy': 'depthwise'}\n",
      "0.03559214381771881\n"
     ]
    }
   ],
   "source": [
    "print(best_xgb_params)\n",
    "print(best_val_rmse_xgb)"
   ]
  },
  {
   "cell_type": "code",
   "execution_count": 6,
   "metadata": {},
   "outputs": [
    {
     "name": "stdout",
     "output_type": "stream",
     "text": [
      "Training Weighted RMSE (XGBoost): 0.0218\n",
      "Validation Weighted RMSE (XGBoost): 0.0379\n"
     ]
    }
   ],
   "source": [
    "params = {\n",
    "    \"n_estimators\": 100,\n",
    "    \"max_depth\": 7,\n",
    "    \"learning_rate\": 0.1,\n",
    "    \"subsample\": 0.8,\n",
    "    \"colsample_bytree\": 0.8,\n",
    "    \"random_state\": 29,\n",
    "    \"n_jobs\": -1,\n",
    "}\n",
    "try:\n",
    "    xgb = run_xgboost_experiment(x_train, y_train, x_val, y_val, params=params)\n",
    "except KeyboardInterrupt:\n",
    "    print(\"KeyboardInterrupt: Stopping training.\")"
   ]
  },
  {
   "cell_type": "markdown",
   "metadata": {},
   "source": [
    "### Multi Linear Regression with feature selection"
   ]
  },
  {
   "cell_type": "code",
   "execution_count": null,
   "metadata": {},
   "outputs": [
    {
     "name": "stdout",
     "output_type": "stream",
     "text": [
      "Train shape: (163548, 182)\n",
      "Val shape: (39385, 182)\n",
      "Training SelectiveLinearRegressor model...\n"
     ]
    },
    {
     "name": "stderr",
     "output_type": "stream",
     "text": [
      "  4%|▍         | 1/23 [00:09<03:39,  9.97s/it]"
     ]
    },
    {
     "name": "stdout",
     "output_type": "stream",
     "text": [
      "KeyboardInterrupt received. Stopping training.\n"
     ]
    },
    {
     "name": "stderr",
     "output_type": "stream",
     "text": [
      "\n"
     ]
    }
   ],
   "source": [
    "try:\n",
    "    linear_model = run_linreg_experiment(x_train_eng, y_train_eng, x_val_eng, y_val_eng, alpha=0.05)\n",
    "except KeyboardInterrupt:\n",
    "    print(\"KeyboardInterrupt received. Stopping training.\")"
   ]
  },
  {
   "cell_type": "code",
   "execution_count": 26,
   "metadata": {},
   "outputs": [
    {
     "name": "stdout",
     "output_type": "stream",
     "text": [
      "Training SelectiveLinearRegressor model...\n"
     ]
    },
    {
     "name": "stderr",
     "output_type": "stream",
     "text": [
      " 61%|██████    | 14/23 [00:06<00:04,  2.05it/s]/Users/kiki/.pyenv/versions/idgaz/lib/python3.12/site-packages/statsmodels/regression/linear_model.py:1782: RuntimeWarning: invalid value encountered in scalar divide\n",
      "  return 1 - self.ssr/self.centered_tss\n",
      "100%|██████████| 23/23 [00:11<00:00,  2.08it/s]\n"
     ]
    },
    {
     "name": "stdout",
     "output_type": "stream",
     "text": [
      "Feature selection results:\n",
      "c01: 37 features selected - R^2 before selection: 0.6581573911363705 - R^2 after selection: 0.6581461253456412\n",
      "c02: 35 features selected - R^2 before selection: 0.19957698856481 - R^2 after selection: 0.19922571629176344\n",
      "c03: 35 features selected - R^2 before selection: 0.48478437860224344 - R^2 after selection: 0.4847664062661967\n",
      "c04: 35 features selected - R^2 before selection: 0.48478437860224344 - R^2 after selection: 0.4847664062661967\n",
      "c05: 39 features selected - R^2 before selection: 0.33020189468184 - R^2 after selection: 0.33020189468184\n",
      "c06: 39 features selected - R^2 before selection: 0.33020189468184 - R^2 after selection: 0.33020189468184\n",
      "c07: 35 features selected - R^2 before selection: 0.19957698856481 - R^2 after selection: 0.19922571629176344\n",
      "c08: 36 features selected - R^2 before selection: 0.14681788610167879 - R^2 after selection: 0.14675225582382345\n",
      "c09: 36 features selected - R^2 before selection: 0.22648060651664526 - R^2 after selection: 0.22623303211200052\n",
      "c10: 33 features selected - R^2 before selection: 0.16744123596409 - R^2 after selection: 0.1673670170435424\n",
      "c11: 37 features selected - R^2 before selection: 0.5471870645213149 - R^2 after selection: 0.5471839338894856\n",
      "c12: 36 features selected - R^2 before selection: 0.2764467808624784 - R^2 after selection: 0.27642529289522977\n",
      "c13: 36 features selected - R^2 before selection: 0.5094793849647381 - R^2 after selection: 0.5094763527255142\n",
      "c14: 34 features selected - R^2 before selection: 0.5622175267041429 - R^2 after selection: 0.5621869222236895\n",
      "c15: 1 features selected - R^2 before selection: nan - R^2 after selection: 1.0\n",
      "c16: 28 features selected - R^2 before selection: 0.30560167110938097 - R^2 after selection: 0.30529578402281554\n",
      "c17: 39 features selected - R^2 before selection: 0.22087467192927746 - R^2 after selection: 0.2208746719292768\n",
      "c18: 37 features selected - R^2 before selection: 0.45822480183966174 - R^2 after selection: 0.45822121683750305\n",
      "c19: 38 features selected - R^2 before selection: 0.26007127599607527 - R^2 after selection: 0.26006917679126185\n",
      "c20: 35 features selected - R^2 before selection: 0.19957698856481 - R^2 after selection: 0.19922571629176344\n",
      "c21: 39 features selected - R^2 before selection: 0.33020189468184 - R^2 after selection: 0.33020189468184\n",
      "c22: 35 features selected - R^2 before selection: 0.48478437860224344 - R^2 after selection: 0.4847664062661967\n",
      "c23: 35 features selected - R^2 before selection: 0.38633131450245717 - R^2 after selection: 0.3862931887773725\n"
     ]
    },
    {
     "name": "stderr",
     "output_type": "stream",
     "text": [
      "100%|██████████| 23/23 [00:00<00:00, 38.42it/s]\n",
      "100%|██████████| 23/23 [00:00<00:00, 149.56it/s]"
     ]
    },
    {
     "name": "stdout",
     "output_type": "stream",
     "text": [
      "Training Weighted RMSE: 0.1643\n",
      "Validation Weighted RMSE: 0.1721\n"
     ]
    },
    {
     "name": "stderr",
     "output_type": "stream",
     "text": [
      "\n"
     ]
    }
   ],
   "source": [
    "try:\n",
    "    linear_model = run_linreg_experiment(x_train_eng, y_train_eng, x_val_eng, y_val_eng, alpha=0.05)\n",
    "except KeyboardInterrupt:\n",
    "    print(\"KeyboardInterrupt received. Stopping training.\")"
   ]
  },
  {
   "cell_type": "code",
   "execution_count": null,
   "metadata": {},
   "outputs": [
    {
     "name": "stderr",
     "output_type": "stream",
     "text": [
      "100%|██████████| 23/23 [00:00<00:00, 53.57it/s]\n"
     ]
    },
    {
     "data": {
      "text/plain": [
       "0.13396921310406534"
      ]
     },
     "execution_count": 8,
     "metadata": {},
     "output_type": "execute_result"
    }
   ],
   "source": [
    "evaluate_model(linear_model, x_val_eng, y_val_eng)"
   ]
  },
  {
   "cell_type": "code",
   "execution_count": 9,
   "metadata": {},
   "outputs": [
    {
     "name": "stdout",
     "output_type": "stream",
     "text": [
      "Using 181 features\n"
     ]
    },
    {
     "name": "stderr",
     "output_type": "stream",
     "text": [
      "100%|██████████| 23/23 [00:03<00:00,  6.03it/s]\n"
     ]
    }
   ],
   "source": [
    "write_submissions(\n",
    "    linear_model,\n",
    "    test_x_path,\n",
    "    \"submissions_multi_regression_feateng.csv\",\n",
    "    use_embed=False,\n",
    "    **params_pipeline_feateng,\n",
    ")"
   ]
  },
  {
   "cell_type": "markdown",
   "metadata": {},
   "source": [
    "## Deep Learning"
   ]
  },
  {
   "cell_type": "markdown",
   "metadata": {},
   "source": [
    "### Rescale data (no)"
   ]
  },
  {
   "cell_type": "code",
   "execution_count": 3,
   "metadata": {},
   "outputs": [
    {
     "name": "stdout",
     "output_type": "stream",
     "text": [
      "Train shape: (176676, 14)\n",
      "Val shape: (26257, 14)\n"
     ]
    }
   ],
   "source": [
    "split_humidity = True\n",
    "params_pipeline_dl = {\n",
    "    \"split_humidity\": split_humidity,\n",
    "    \"h_threshold\": 0.211,\n",
    "    \"split\": not split_humidity,\n",
    "    \"val_proportion\": 0.5 if split_humidity else 0.1,\n",
    "    \"rescale\": False,\n",
    "    \"reduce_features\": False,\n",
    "    \"augment\": False,\n",
    "    \"apply_feat_eng\": False,\n",
    "    \"polynomial_degree\": 1,\n",
    "    \"include_group_interactions\": False,\n",
    "    \"include_humidity_interactions\": False,\n",
    "    \"feature_selection\": False,\n",
    "    \"k_features\": 30,\n",
    "    \"remove_outliers\": False,\n",
    "    \"k\": 10.0,\n",
    "    \"binarize_humidity\": False,\n",
    "    \"n_bins\": 5,\n",
    "    \"remove_humidity\": False,\n",
    "}\n",
    "\n",
    "test_params_pipeline_dl = params_pipeline_dl.copy()\n",
    "test_params_pipeline_dl[\"split\"] = False\n",
    "test_params_pipeline_dl[\"split_humidity\"] = False\n",
    "\n",
    "x_train, y_train, x_val, y_val = full_pipeline(\n",
    "    train_x_path, train_y_path, **params_pipeline_dl\n",
    ")\n",
    "x_test = full_pipeline(test_x_path, None, **test_params_pipeline_dl)\n",
    "print(\"Train shape:\", x_train.shape)\n",
    "print(\"Val shape:\", x_val.shape)"
   ]
  },
  {
   "cell_type": "code",
   "execution_count": 4,
   "metadata": {},
   "outputs": [],
   "source": [
    "if not split_humidity:\n",
    "    x_val_strata, y_val_strata, labels = stratify_by_humidity(x_val, y_val, n_strata=2)\n",
    "    val_data = [(x_val_strata[i], y_val_strata[i]) for i in range(len(x_val_strata))]\n",
    "else:\n",
    "    val_data = [(x_val, y_val)]\n",
    "    labels = None"
   ]
  },
  {
   "cell_type": "code",
   "execution_count": 5,
   "metadata": {},
   "outputs": [],
   "source": [
    "labels"
   ]
  },
  {
   "cell_type": "markdown",
   "metadata": {},
   "source": [
    "### RAMTNet\n",
    "#### Without UDA"
   ]
  },
  {
   "cell_type": "code",
   "execution_count": 7,
   "metadata": {},
   "outputs": [],
   "source": [
    "epochs = 60\n",
    "uda = False\n",
    "params_ramt = {\n",
    "    \"model_class\": \"RAMTNet\",\n",
    "    \"model_params\": {\n",
    "        \"num_features\": x_train.drop(columns=[\"ID\"]).shape[1],\n",
    "        \"num_tasks\": y_train.shape[1],\n",
    "        \"feature_embed_dim\": 16,\n",
    "        \"embed_dim\": 128,\n",
    "        \"attn_heads\": 4,\n",
    "        \"attn_blocks\": 1,\n",
    "        \"num_res_blocks\": 2,\n",
    "        \"head_hidden\": 32,\n",
    "        \"dropout_rate\": 0.3 if not uda else 0.1,\n",
    "    },\n",
    "    \"training_params\": {\n",
    "        \"n_epochs\": epochs,\n",
    "        \"lr\": 5e-3,\n",
    "        \"weight_decay\": 1e-5,\n",
    "        \"batch_size\": 2048,\n",
    "        \"patience\": epochs // 10,\n",
    "        \"factor\": 0.5,\n",
    "        \"min_lr\": 1e-7,\n",
    "        \"loss\": \"WeightedRMSELoss\",\n",
    "    },\n",
    "}"
   ]
  },
  {
   "cell_type": "code",
   "execution_count": null,
   "metadata": {},
   "outputs": [
    {
     "name": "stdout",
     "output_type": "stream",
     "text": [
      "Number of trainable parameters: 191063\n"
     ]
    },
    {
     "name": "stderr",
     "output_type": "stream",
     "text": [
      "Epoch 60/60 - Train Loss: 0.0524, Val Loss: 0.0473, LR: 0.002500: 100%|██████████| 60/60 [12:29<00:00, 12.49s/it]\n"
     ]
    },
    {
     "name": "stdout",
     "output_type": "stream",
     "text": [
      "Final Validation Weighted RMSE: 0.0473\n"
     ]
    },
    {
     "data": {
      "image/png": "[encoded data removed]",
      "text/plain": [
       "<Figure size 1000x500 with 1 Axes>"
      ]
     },
     "metadata": {},
     "output_type": "display_data"
    }
   ],
   "source": [
    "try:\n",
    "    ramtnet = run_nn_experiment(\n",
    "        x_train,\n",
    "        y_train,\n",
    "        x_test,\n",
    "        val_data,\n",
    "        params=params_ramt,\n",
    "        uda=uda,\n",
    "        verbose=True,\n",
    "        plot_losses=True,\n",
    "        labels=labels,\n",
    "        lambda_domain=0.25,\n",
    "    )\n",
    "except KeyboardInterrupt:\n",
    "    print(\"KeyboardInterrupt: Stopping training early.\")"
   ]
  },
  {
   "cell_type": "code",
   "execution_count": 14,
   "metadata": {},
   "outputs": [
    {
     "name": "stdout",
     "output_type": "stream",
     "text": [
      "Validation error: 0.047338593980398\n"
     ]
    }
   ],
   "source": [
    "error = evaluate_model(ramtnet, x_val, y_val)\n",
    "print(f\"Validation error: {error}\")"
   ]
  },
  {
   "cell_type": "code",
   "execution_count": null,
   "metadata": {},
   "outputs": [],
   "source": [
    "u = \"_uda\" if uda else \"\"\n",
    "torch.save(ramtnet.state_dict(), f\"checkpoints/ramtnet{u}_base.pth\")"
   ]
  },
  {
   "cell_type": "markdown",
   "metadata": {},
   "source": [
    "#### With UDA"
   ]
  },
  {
   "cell_type": "code",
   "execution_count": 8,
   "metadata": {},
   "outputs": [],
   "source": [
    "uda = True\n",
    "params_ramt = {\n",
    "    \"model_class\": \"RAMTNet\",\n",
    "    \"model_params\": {\n",
    "        \"num_features\": x_train.drop(columns=[\"ID\"]).shape[1],\n",
    "        \"num_tasks\": y_train.shape[1],\n",
    "        \"feature_embed_dim\": 16,\n",
    "        \"embed_dim\": 128,\n",
    "        \"attn_heads\": 4,\n",
    "        \"attn_blocks\": 1,\n",
    "        \"num_res_blocks\": 2,\n",
    "        \"head_hidden\": 32,\n",
    "        \"dropout_rate\": 0.3 if not uda else 0.1,\n",
    "    },\n",
    "    \"training_params\": {\n",
    "        \"n_epochs\": epochs,\n",
    "        \"lr\": 5e-3,\n",
    "        \"weight_decay\": 1e-5,\n",
    "        \"batch_size\": 2048,\n",
    "        \"patience\": epochs // 10,\n",
    "        \"factor\": 0.5,\n",
    "        \"min_lr\": 1e-7,\n",
    "        \"loss\": \"WeightedRMSELoss\",\n",
    "    },\n",
    "}"
   ]
  },
  {
   "cell_type": "code",
   "execution_count": null,
   "metadata": {},
   "outputs": [
    {
     "name": "stdout",
     "output_type": "stream",
     "text": [
      "Number of trainable parameters: 191063\n"
     ]
    },
    {
     "name": "stderr",
     "output_type": "stream",
     "text": [
      "Epoch 60/60 - Train Disc Acc: 53.86%, Train Disc Loss: 0.6873, Train Reg Loss: 0.1311, Train Loss: 0.3029, Val Loss: 0.1864, LR: 0.001250: 100%|██████████| 60/60 [18:42<00:00, 18.70s/it]\n"
     ]
    },
    {
     "name": "stdout",
     "output_type": "stream",
     "text": [
      "Final Validation Weighted RMSE: 0.1864\n"
     ]
    },
    {
     "data": {
      "image/png": "[encoded data removed]",
      "text/plain": [
       "<Figure size 1000x500 with 1 Axes>"
      ]
     },
     "metadata": {},
     "output_type": "display_data"
    }
   ],
   "source": [
    "try:\n",
    "    ramtnet = run_nn_experiment(\n",
    "        x_train,\n",
    "        y_train,\n",
    "        x_test,\n",
    "        val_data,\n",
    "        params=params_ramt,\n",
    "        uda=uda,\n",
    "        verbose=True,\n",
    "        plot_losses=True,\n",
    "        labels=labels,\n",
    "        lambda_domain=0.25,\n",
    "    )\n",
    "except KeyboardInterrupt:\n",
    "    print(\"KeyboardInterrupt: Stopping training early.\")"
   ]
  },
  {
   "cell_type": "code",
   "execution_count": 17,
   "metadata": {},
   "outputs": [
    {
     "name": "stdout",
     "output_type": "stream",
     "text": [
      "Validation error: 0.18635131872779223\n"
     ]
    }
   ],
   "source": [
    "error = evaluate_model(ramtnet, x_val, y_val)\n",
    "print(f\"Validation error: {error}\")"
   ]
  },
  {
   "cell_type": "code",
   "execution_count": null,
   "metadata": {},
   "outputs": [],
   "source": [
    "u = \"_uda\" if uda else \"\"\n",
    "torch.save(ramtnet.state_dict(), f\"checkpoints/ramtnet{u}_base.pth\")"
   ]
  },
  {
   "cell_type": "markdown",
   "metadata": {},
   "source": [
    "### RegressorV3\n",
    "#### Without UDA"
   ]
  },
  {
   "cell_type": "code",
   "execution_count": 9,
   "metadata": {},
   "outputs": [],
   "source": [
    "epochs = 60\n",
    "uda = False\n",
    "params_reg_v3 = {\n",
    "    \"model_class\": \"RegressorV3\",\n",
    "    \"model_params\": {\n",
    "        \"hidden_dim\": 128,\n",
    "        \"num_output\": 23,\n",
    "        \"humidity_dim\": 32,\n",
    "        \"group_embed_dim\": 32,\n",
    "        \"bias\": True,\n",
    "        \"dropout_rate\": 0.3 if not uda else 0.1,\n",
    "    },\n",
    "    \"training_params\": {\n",
    "        \"n_epochs\": epochs,\n",
    "        \"lr\": 5e-3,\n",
    "        \"weight_decay\": 1e-5,\n",
    "        \"batch_size\": 2048,\n",
    "        \"patience\": epochs // 10,\n",
    "        \"factor\": 0.5,\n",
    "        \"min_lr\": 1e-7,\n",
    "        \"loss\": \"WeightedRMSELoss\",\n",
    "    },\n",
    "}"
   ]
  },
  {
   "cell_type": "code",
   "execution_count": null,
   "metadata": {},
   "outputs": [
    {
     "name": "stdout",
     "output_type": "stream",
     "text": [
      "Number of trainable parameters: 31927\n"
     ]
    },
    {
     "name": "stderr",
     "output_type": "stream",
     "text": [
      "Epoch 60/60 - Train Loss: 0.1012, Val Loss: 0.0850, LR: 0.002500: 100%|██████████| 60/60 [03:12<00:00,  3.21s/it]\n"
     ]
    },
    {
     "name": "stdout",
     "output_type": "stream",
     "text": [
      "Final Validation Weighted RMSE: 0.0850\n"
     ]
    },
    {
     "data": {
      "image/png": "[encoded data removed]",
      "text/plain": [
       "<Figure size 1000x500 with 1 Axes>"
      ]
     },
     "metadata": {},
     "output_type": "display_data"
    }
   ],
   "source": [
    "try:\n",
    "    reg_v3 = run_nn_experiment(\n",
    "        x_train,\n",
    "        y_train,\n",
    "        x_test,\n",
    "        val_data,\n",
    "        uda=uda,\n",
    "        params=params_reg_v3,\n",
    "        lambda_domain=1.0,\n",
    "        verbose=True,\n",
    "        plot_losses=True,\n",
    "        labels=labels,\n",
    "        zero_weight=1.0,\n",
    "    )\n",
    "except KeyboardInterrupt:\n",
    "    print(\"KeyboardInterrupt: Stopping training early.\")"
   ]
  },
  {
   "cell_type": "code",
   "execution_count": 20,
   "metadata": {},
   "outputs": [
    {
     "name": "stdout",
     "output_type": "stream",
     "text": [
      "Weighted RMSE on validation set: 0.0850\n"
     ]
    }
   ],
   "source": [
    "print(f\"Weighted RMSE on validation set: {evaluate_model(reg_v3, x_val, y_val):.4f}\")"
   ]
  },
  {
   "cell_type": "code",
   "execution_count": 21,
   "metadata": {},
   "outputs": [],
   "source": [
    "u = \"uda\" if uda else \"\"\n",
    "torch.save(reg_v3.state_dict(), f\"checkpoints/reg_v3_{u}_base.pth\")"
   ]
  },
  {
   "cell_type": "markdown",
   "metadata": {},
   "source": [
    "#### With UDA"
   ]
  },
  {
   "cell_type": "code",
   "execution_count": 10,
   "metadata": {},
   "outputs": [],
   "source": [
    "uda = True\n",
    "params_reg_v3 = {\n",
    "    \"model_class\": \"RegressorV3\",\n",
    "    \"model_params\": {\n",
    "        \"hidden_dim\": 128,\n",
    "        \"num_output\": 23,\n",
    "        \"humidity_dim\": 32,\n",
    "        \"group_embed_dim\": 32,\n",
    "        \"bias\": True,\n",
    "        \"dropout_rate\": 0.3 if not uda else 0.1,\n",
    "    },\n",
    "    \"training_params\": {\n",
    "        \"n_epochs\": epochs,\n",
    "        \"lr\": 5e-3,\n",
    "        \"weight_decay\": 1e-5,\n",
    "        \"batch_size\": 2048,\n",
    "        \"patience\": epochs // 10,\n",
    "        \"factor\": 0.5,\n",
    "        \"min_lr\": 1e-7,\n",
    "        \"loss\": \"WeightedRMSELoss\",\n",
    "    },\n",
    "}"
   ]
  },
  {
   "cell_type": "code",
   "execution_count": null,
   "metadata": {},
   "outputs": [
    {
     "name": "stdout",
     "output_type": "stream",
     "text": [
      "Number of trainable parameters: 31927\n"
     ]
    },
    {
     "name": "stderr",
     "output_type": "stream",
     "text": [
      "Epoch 60/60 - Train Disc Acc: 56.47%, Train Disc Loss: 0.6730, Train Reg Loss: 0.1347, Train Loss: 0.8077, Val Loss: 0.2028, LR: 0.000078: 100%|██████████| 60/60 [06:29<00:00,  6.48s/it]\n"
     ]
    },
    {
     "name": "stdout",
     "output_type": "stream",
     "text": [
      "Final Validation Weighted RMSE: 0.2028\n"
     ]
    },
    {
     "data": {
      "image/png": "[encoded data removed]",
      "text/plain": [
       "<Figure size 1000x500 with 1 Axes>"
      ]
     },
     "metadata": {},
     "output_type": "display_data"
    }
   ],
   "source": [
    "try:\n",
    "    reg_v3 = run_nn_experiment(\n",
    "        x_train,\n",
    "        y_train,\n",
    "        x_test,\n",
    "        val_data,\n",
    "        uda=uda,\n",
    "        params=params_reg_v3,\n",
    "        lambda_domain=1.0,\n",
    "        verbose=True,\n",
    "        plot_losses=True,\n",
    "        labels=labels,\n",
    "        zero_weight=1.0,\n",
    "    )\n",
    "except KeyboardInterrupt:\n",
    "    print(\"KeyboardInterrupt: Stopping training early.\")"
   ]
  },
  {
   "cell_type": "code",
   "execution_count": 23,
   "metadata": {},
   "outputs": [
    {
     "name": "stdout",
     "output_type": "stream",
     "text": [
      "Weighted RMSE on validation set: 0.2027\n"
     ]
    }
   ],
   "source": [
    "print(f\"Weighted RMSE on validation set: {evaluate_model(reg_v3, x_val, y_val):.4f}\")"
   ]
  },
  {
   "cell_type": "code",
   "execution_count": 24,
   "metadata": {},
   "outputs": [],
   "source": [
    "u = \"uda\" if uda else \"\"\n",
    "torch.save(reg_v3.state_dict(), f\"checkpoints/reg_v3_{u}_base.pth\")"
   ]
  },
  {
   "cell_type": "markdown",
   "metadata": {},
   "source": [
    "### NNRegressor"
   ]
  },
  {
   "cell_type": "code",
   "execution_count": 11,
   "metadata": {},
   "outputs": [],
   "source": [
    "epochs = 60\n",
    "params_nnreg = {\n",
    "    \"model_class\": \"NNRegressor\",\n",
    "    \"model_params\": {\n",
    "        \"hidden_dim\": 128,\n",
    "        \"num_output\": 23,\n",
    "        \"bias\": True,\n",
    "        \"dropout_rate\": 0.3,\n",
    "    },\n",
    "    \"training_params\": {\n",
    "        \"n_epochs\": epochs,\n",
    "        \"lr\": 5e-3,\n",
    "        \"weight_decay\": 1e-5,\n",
    "        \"batch_size\": 2048,\n",
    "        \"patience\": epochs // 10,\n",
    "        \"factor\": 0.5,\n",
    "        \"min_lr\": 1e-7,\n",
    "        \"loss\": \"WeightedRMSELoss\",\n",
    "    },\n",
    "}"
   ]
  },
  {
   "cell_type": "code",
   "execution_count": null,
   "metadata": {},
   "outputs": [
    {
     "name": "stdout",
     "output_type": "stream",
     "text": [
      "Number of trainable parameters: 12439\n"
     ]
    },
    {
     "name": "stderr",
     "output_type": "stream",
     "text": [
      "Epoch 60/60 - Train Loss: 0.0810, Val Loss: 0.0775, LR: 0.001250: 100%|██████████| 60/60 [02:17<00:00,  2.29s/it]\n"
     ]
    },
    {
     "name": "stdout",
     "output_type": "stream",
     "text": [
      "Final Validation Weighted RMSE: 0.0775\n"
     ]
    },
    {
     "data": {
      "image/png": "[encoded data removed]",
      "text/plain": [
       "<Figure size 1000x500 with 1 Axes>"
      ]
     },
     "metadata": {},
     "output_type": "display_data"
    }
   ],
   "source": [
    "try:\n",
    "    nnreg = run_nn_experiment(\n",
    "        x_train,\n",
    "        y_train,\n",
    "        x_test,\n",
    "        val_data,\n",
    "        uda=False,\n",
    "        params=params_nnreg,\n",
    "        lambda_domain=0.25,\n",
    "        verbose=True,\n",
    "        plot_losses=True,\n",
    "        labels=labels,\n",
    "        zero_weight=1.0,\n",
    "    )\n",
    "except KeyboardInterrupt:\n",
    "    print(\"KeyboardInterrupt: Stopping training early.\")"
   ]
  },
  {
   "cell_type": "code",
   "execution_count": 26,
   "metadata": {},
   "outputs": [
    {
     "name": "stdout",
     "output_type": "stream",
     "text": [
      "Weighted RMSE on validation set: 0.0775\n"
     ]
    }
   ],
   "source": [
    "print(f\"Weighted RMSE on validation set: {evaluate_model(nnreg, x_val, y_val):.4f}\")"
   ]
  },
  {
   "cell_type": "code",
   "execution_count": 27,
   "metadata": {},
   "outputs": [],
   "source": [
    "torch.save(nnreg.state_dict(), \"checkpoints/nnreg_base.pth\")"
   ]
  },
  {
   "cell_type": "markdown",
   "metadata": {},
   "source": [
    "### GasDetectionModel"
   ]
  },
  {
   "cell_type": "code",
   "execution_count": 12,
   "metadata": {},
   "outputs": [],
   "source": [
    "epochs = 60\n",
    "params_gasdet = {\n",
    "    \"model_class\": \"GasDetectionModel\",\n",
    "    \"model_params\": {\n",
    "        \"hidden_dim\": 128,\n",
    "        \"num_output\": 23,\n",
    "        \"dropout_rate\": 0.3,\n",
    "    },\n",
    "    \"training_params\": {\n",
    "        \"n_epochs\": epochs,\n",
    "        \"lr\": 5e-3,\n",
    "        \"weight_decay\": 1e-5,\n",
    "        \"batch_size\": 2048,\n",
    "        \"patience\": epochs // 10,\n",
    "        \"factor\": 0.5,\n",
    "        \"min_lr\": 1e-7,\n",
    "        \"loss\": \"WeightedRMSELoss\",\n",
    "    },\n",
    "}"
   ]
  },
  {
   "cell_type": "code",
   "execution_count": null,
   "metadata": {},
   "outputs": [
    {
     "name": "stdout",
     "output_type": "stream",
     "text": [
      "Number of trainable parameters: 25391\n"
     ]
    },
    {
     "name": "stderr",
     "output_type": "stream",
     "text": [
      "Epoch 60/60 - Train Loss: 0.0628, Val Loss: 0.0569, LR: 0.001250: 100%|██████████| 60/60 [02:52<00:00,  2.87s/it]\n"
     ]
    },
    {
     "name": "stdout",
     "output_type": "stream",
     "text": [
      "Final Validation Weighted RMSE: 0.0569\n"
     ]
    },
    {
     "data": {
      "image/png": "[encoded data removed]",
      "text/plain": [
       "<Figure size 1000x500 with 1 Axes>"
      ]
     },
     "metadata": {},
     "output_type": "display_data"
    }
   ],
   "source": [
    "try:\n",
    "    gasdet = run_nn_experiment(\n",
    "        x_train,\n",
    "        y_train,\n",
    "        x_test,\n",
    "        val_data,\n",
    "        uda=False,\n",
    "        params=params_gasdet,\n",
    "        lambda_domain=0.25,\n",
    "        verbose=True,\n",
    "        plot_losses=True,\n",
    "        labels=labels,\n",
    "        zero_weight=1.0,\n",
    "    )\n",
    "except KeyboardInterrupt:\n",
    "    print(\"KeyboardInterrupt: Stopping training early.\")"
   ]
  },
  {
   "cell_type": "code",
   "execution_count": 29,
   "metadata": {},
   "outputs": [
    {
     "name": "stdout",
     "output_type": "stream",
     "text": [
      "Weighted RMSE on validation set: 0.0569\n"
     ]
    }
   ],
   "source": [
    "print(f\"Weighted RMSE on validation set: {evaluate_model(gasdet, x_val, y_val):.4f}\")"
   ]
  },
  {
   "cell_type": "code",
   "execution_count": 30,
   "metadata": {},
   "outputs": [],
   "source": [
    "torch.save(gasdet.state_dict(), \"checkpoints/gasdet_base.pth\")"
   ]
  },
  {
   "cell_type": "markdown",
   "metadata": {},
   "source": [
    "### CNN"
   ]
  },
  {
   "cell_type": "code",
   "execution_count": 13,
   "metadata": {},
   "outputs": [],
   "source": [
    "epochs = 60\n",
    "params_cnn = {\n",
    "    \"model_class\": \"SensorCNN\",\n",
    "    \"model_params\": {\n",
    "        \"input_dim\": x_train.drop(\"ID\", axis=1).shape[1],\n",
    "        \"embed_dim\": 32,\n",
    "        \"conv_channels\": 16,\n",
    "        \"final_dim\": 32,\n",
    "        \"num_output\": y_train.shape[1],\n",
    "        \"dropout_rate\": 0.1,\n",
    "    },\n",
    "    \"training_params\": {\n",
    "        \"n_epochs\": epochs,\n",
    "        \"lr\": 5e-3,\n",
    "        \"weight_decay\": 1e-5,\n",
    "        \"batch_size\": 2048,\n",
    "        \"patience\": epochs // 10,\n",
    "        \"factor\": 0.5,\n",
    "        \"min_lr\": 1e-7,\n",
    "        \"loss\": \"WeightedRMSELoss\",\n",
    "    },\n",
    "}"
   ]
  },
  {
   "cell_type": "code",
   "execution_count": null,
   "metadata": {},
   "outputs": [
    {
     "name": "stdout",
     "output_type": "stream",
     "text": [
      "Number of trainable parameters: 18223\n"
     ]
    },
    {
     "name": "stderr",
     "output_type": "stream",
     "text": [
      "Epoch 60/60 - Train Loss: 0.1135, Val Loss: 0.1140, LR: 0.002500: 100%|██████████| 60/60 [05:17<00:00,  5.29s/it]\n"
     ]
    },
    {
     "name": "stdout",
     "output_type": "stream",
     "text": [
      "Final Validation Weighted RMSE: 0.1140\n"
     ]
    },
    {
     "data": {
      "image/png": "[encoded data removed]",
      "text/plain": [
       "<Figure size 1000x500 with 1 Axes>"
      ]
     },
     "metadata": {},
     "output_type": "display_data"
    }
   ],
   "source": [
    "try:\n",
    "    cnn = run_nn_experiment(\n",
    "        x_train,\n",
    "        y_train,\n",
    "        x_test,\n",
    "        val_data,\n",
    "        uda=False,\n",
    "        params=params_cnn,\n",
    "        lambda_domain=0.25,\n",
    "        verbose=True,\n",
    "        plot_losses=True,\n",
    "        labels=labels,\n",
    "        zero_weight=1.0,\n",
    "    )\n",
    "except KeyboardInterrupt:\n",
    "    print(\"KeyboardInterrupt: Stopping training early.\")"
   ]
  },
  {
   "cell_type": "code",
   "execution_count": 32,
   "metadata": {},
   "outputs": [
    {
     "name": "stdout",
     "output_type": "stream",
     "text": [
      "Validation error: 0.11403178839624735\n"
     ]
    }
   ],
   "source": [
    "error = evaluate_model(cnn, x_val, y_val)\n",
    "print(f\"Validation error: {error}\")"
   ]
  },
  {
   "cell_type": "code",
   "execution_count": 33,
   "metadata": {},
   "outputs": [],
   "source": [
    "torch.save(cnn.state_dict(), \"checkpoints/cnn_base.pth\")"
   ]
  },
  {
   "cell_type": "markdown",
   "metadata": {},
   "source": [
    "## Two-stage approach"
   ]
  },
  {
   "cell_type": "code",
   "execution_count": 4,
   "metadata": {},
   "outputs": [],
   "source": [
    "y_train_classif, y_train_reg = split_classif_reg_targets(y_train)\n",
    "y_val_classif, y_val_reg = split_classif_reg_targets(y_val)"
   ]
  },
  {
   "cell_type": "code",
   "execution_count": 5,
   "metadata": {},
   "outputs": [
    {
     "name": "stderr",
     "output_type": "stream",
     "text": [
      "Model Grid Search:   4%|▍         | 1/24 [00:09<03:32,  9.24s/it]"
     ]
    },
    {
     "name": "stdout",
     "output_type": "stream",
     "text": [
      "\n",
      "Model Combination: Classifier 'randomforestclassifier' | Regressor 'randomforestregressor'\n",
      "Training Weighted RMSE: 0.0491\n",
      "Validation Weighted RMSE: 0.0899\n",
      "--------------------------------------------------\n"
     ]
    },
    {
     "name": "stderr",
     "output_type": "stream",
     "text": [
      "Model Grid Search:   8%|▊         | 2/24 [00:14<02:37,  7.17s/it]"
     ]
    },
    {
     "name": "stdout",
     "output_type": "stream",
     "text": [
      "\n",
      "Model Combination: Classifier 'randomforestclassifier' | Regressor 'linearregression'\n",
      "Training Weighted RMSE: 0.1213\n",
      "Validation Weighted RMSE: 0.1480\n",
      "--------------------------------------------------\n"
     ]
    },
    {
     "name": "stderr",
     "output_type": "stream",
     "text": [
      "Model Grid Search:  12%|█▎        | 3/24 [00:22<02:34,  7.36s/it]"
     ]
    },
    {
     "name": "stdout",
     "output_type": "stream",
     "text": [
      "\n",
      "Model Combination: Classifier 'randomforestclassifier' | Regressor 'decisiontreeregressor'\n",
      "Training Weighted RMSE: 0.0549\n",
      "Validation Weighted RMSE: 0.0971\n",
      "--------------------------------------------------\n"
     ]
    },
    {
     "name": "stderr",
     "output_type": "stream",
     "text": [
      "Model Grid Search:  17%|█▋        | 4/24 [00:31<02:36,  7.81s/it]"
     ]
    },
    {
     "name": "stdout",
     "output_type": "stream",
     "text": [
      "\n",
      "Model Combination: Classifier 'randomforestclassifier' | Regressor 'kneighborsregressor'\n",
      "Training Weighted RMSE: 0.0307\n",
      "Validation Weighted RMSE: 0.0734\n",
      "--------------------------------------------------\n"
     ]
    },
    {
     "name": "stderr",
     "output_type": "stream",
     "text": [
      "Model Grid Search:  21%|██        | 5/24 [00:39<02:30,  7.94s/it]"
     ]
    },
    {
     "name": "stdout",
     "output_type": "stream",
     "text": [
      "\n",
      "Model Combination: Classifier 'randomforestclassifier' | Regressor 'xgbregressor'\n",
      "Training Weighted RMSE: 0.0322\n",
      "Validation Weighted RMSE: 0.0712\n",
      "--------------------------------------------------\n"
     ]
    },
    {
     "name": "stderr",
     "output_type": "stream",
     "text": [
      "Model Grid Search:  25%|██▌       | 6/24 [01:00<03:44, 12.46s/it]"
     ]
    },
    {
     "name": "stdout",
     "output_type": "stream",
     "text": [
      "\n",
      "Model Combination: Classifier 'randomforestclassifier' | Regressor 'gradientboostingregressor'\n",
      "Training Weighted RMSE: 0.0663\n",
      "Validation Weighted RMSE: 0.0935\n",
      "--------------------------------------------------\n"
     ]
    },
    {
     "name": "stderr",
     "output_type": "stream",
     "text": [
      "Model Grid Search:  29%|██▉       | 7/24 [01:08<03:07, 11.05s/it]"
     ]
    },
    {
     "name": "stdout",
     "output_type": "stream",
     "text": [
      "\n",
      "Model Combination: Classifier 'decisiontreeclassifier' | Regressor 'randomforestregressor'\n",
      "Training Weighted RMSE: 0.0554\n",
      "Validation Weighted RMSE: 0.0927\n",
      "--------------------------------------------------\n"
     ]
    },
    {
     "name": "stderr",
     "output_type": "stream",
     "text": [
      "Model Grid Search:  33%|███▎      | 8/24 [01:13<02:27,  9.23s/it]"
     ]
    },
    {
     "name": "stdout",
     "output_type": "stream",
     "text": [
      "\n",
      "Model Combination: Classifier 'decisiontreeclassifier' | Regressor 'linearregression'\n",
      "Training Weighted RMSE: 0.1235\n",
      "Validation Weighted RMSE: 0.1480\n",
      "--------------------------------------------------\n"
     ]
    },
    {
     "name": "stderr",
     "output_type": "stream",
     "text": [
      "Model Grid Search:  38%|███▊      | 9/24 [01:20<02:07,  8.53s/it]"
     ]
    },
    {
     "name": "stdout",
     "output_type": "stream",
     "text": [
      "\n",
      "Model Combination: Classifier 'decisiontreeclassifier' | Regressor 'decisiontreeregressor'\n",
      "Training Weighted RMSE: 0.0607\n",
      "Validation Weighted RMSE: 0.0994\n",
      "--------------------------------------------------\n"
     ]
    },
    {
     "name": "stderr",
     "output_type": "stream",
     "text": [
      "Model Grid Search:  42%|████▏     | 10/24 [01:29<01:57,  8.39s/it]"
     ]
    },
    {
     "name": "stdout",
     "output_type": "stream",
     "text": [
      "\n",
      "Model Combination: Classifier 'decisiontreeclassifier' | Regressor 'kneighborsregressor'\n",
      "Training Weighted RMSE: 0.0405\n",
      "Validation Weighted RMSE: 0.0774\n",
      "--------------------------------------------------\n"
     ]
    },
    {
     "name": "stderr",
     "output_type": "stream",
     "text": [
      "Model Grid Search:  46%|████▌     | 11/24 [01:35<01:42,  7.92s/it]"
     ]
    },
    {
     "name": "stdout",
     "output_type": "stream",
     "text": [
      "\n",
      "Model Combination: Classifier 'decisiontreeclassifier' | Regressor 'xgbregressor'\n",
      "Training Weighted RMSE: 0.0413\n",
      "Validation Weighted RMSE: 0.0745\n",
      "--------------------------------------------------\n"
     ]
    },
    {
     "name": "stderr",
     "output_type": "stream",
     "text": [
      "Model Grid Search:  50%|█████     | 12/24 [01:56<02:21, 11.76s/it]"
     ]
    },
    {
     "name": "stdout",
     "output_type": "stream",
     "text": [
      "\n",
      "Model Combination: Classifier 'decisiontreeclassifier' | Regressor 'gradientboostingregressor'\n",
      "Training Weighted RMSE: 0.0705\n",
      "Validation Weighted RMSE: 0.0947\n",
      "--------------------------------------------------\n"
     ]
    },
    {
     "name": "stderr",
     "output_type": "stream",
     "text": [
      "Model Grid Search:  54%|█████▍    | 13/24 [05:48<14:23, 78.54s/it]"
     ]
    },
    {
     "name": "stdout",
     "output_type": "stream",
     "text": [
      "\n",
      "Model Combination: Classifier 'kneighborsclassifier' | Regressor 'randomforestregressor'\n",
      "Training Weighted RMSE: 0.0438\n",
      "Validation Weighted RMSE: 0.0738\n",
      "--------------------------------------------------\n"
     ]
    },
    {
     "name": "stderr",
     "output_type": "stream",
     "text": [
      "Model Grid Search:  58%|█████▊    | 14/24 [09:36<20:37, 123.77s/it]"
     ]
    },
    {
     "name": "stdout",
     "output_type": "stream",
     "text": [
      "\n",
      "Model Combination: Classifier 'kneighborsclassifier' | Regressor 'linearregression'\n",
      "Training Weighted RMSE: 0.1195\n",
      "Validation Weighted RMSE: 0.1401\n",
      "--------------------------------------------------\n"
     ]
    },
    {
     "name": "stderr",
     "output_type": "stream",
     "text": [
      "Model Grid Search:  62%|██████▎   | 15/24 [13:35<23:46, 158.52s/it]"
     ]
    },
    {
     "name": "stdout",
     "output_type": "stream",
     "text": [
      "\n",
      "Model Combination: Classifier 'kneighborsclassifier' | Regressor 'decisiontreeregressor'\n",
      "Training Weighted RMSE: 0.0503\n",
      "Validation Weighted RMSE: 0.0827\n",
      "--------------------------------------------------\n"
     ]
    },
    {
     "name": "stderr",
     "output_type": "stream",
     "text": [
      "Model Grid Search:  67%|██████▋   | 16/24 [17:36<24:25, 183.20s/it]"
     ]
    },
    {
     "name": "stdout",
     "output_type": "stream",
     "text": [
      "\n",
      "Model Combination: Classifier 'kneighborsclassifier' | Regressor 'kneighborsregressor'\n",
      "Training Weighted RMSE: 0.0202\n",
      "Validation Weighted RMSE: 0.0488\n",
      "--------------------------------------------------\n"
     ]
    },
    {
     "name": "stderr",
     "output_type": "stream",
     "text": [
      "Model Grid Search:  71%|███████   | 17/24 [21:27<23:02, 197.49s/it]"
     ]
    },
    {
     "name": "stdout",
     "output_type": "stream",
     "text": [
      "\n",
      "Model Combination: Classifier 'kneighborsclassifier' | Regressor 'xgbregressor'\n",
      "Training Weighted RMSE: 0.0226\n",
      "Validation Weighted RMSE: 0.0465\n",
      "--------------------------------------------------\n"
     ]
    },
    {
     "name": "stderr",
     "output_type": "stream",
     "text": [
      "Model Grid Search:  75%|███████▌  | 18/24 [25:32<21:11, 211.89s/it]"
     ]
    },
    {
     "name": "stdout",
     "output_type": "stream",
     "text": [
      "\n",
      "Model Combination: Classifier 'kneighborsclassifier' | Regressor 'gradientboostingregressor'\n",
      "Training Weighted RMSE: 0.0624\n",
      "Validation Weighted RMSE: 0.0782\n",
      "--------------------------------------------------\n"
     ]
    },
    {
     "name": "stderr",
     "output_type": "stream",
     "text": [
      "Model Grid Search:  79%|███████▉  | 19/24 [25:59<13:02, 156.41s/it]"
     ]
    },
    {
     "name": "stdout",
     "output_type": "stream",
     "text": [
      "\n",
      "Model Combination: Classifier 'xgbclassifier' | Regressor 'randomforestregressor'\n",
      "Training Weighted RMSE: 0.0431\n",
      "Validation Weighted RMSE: 0.0717\n",
      "--------------------------------------------------\n"
     ]
    },
    {
     "name": "stderr",
     "output_type": "stream",
     "text": [
      "Model Grid Search:  83%|████████▎ | 20/24 [26:25<07:48, 117.07s/it]"
     ]
    },
    {
     "name": "stdout",
     "output_type": "stream",
     "text": [
      "\n",
      "Model Combination: Classifier 'xgbclassifier' | Regressor 'linearregression'\n",
      "Training Weighted RMSE: 0.1193\n",
      "Validation Weighted RMSE: 0.1387\n",
      "--------------------------------------------------\n"
     ]
    },
    {
     "name": "stderr",
     "output_type": "stream",
     "text": [
      "Model Grid Search:  88%|████████▊ | 21/24 [26:52<04:30, 90.01s/it] "
     ]
    },
    {
     "name": "stdout",
     "output_type": "stream",
     "text": [
      "\n",
      "Model Combination: Classifier 'xgbclassifier' | Regressor 'decisiontreeregressor'\n",
      "Training Weighted RMSE: 0.0497\n",
      "Validation Weighted RMSE: 0.0809\n",
      "--------------------------------------------------\n"
     ]
    },
    {
     "name": "stderr",
     "output_type": "stream",
     "text": [
      "Model Grid Search:  92%|█████████▏| 22/24 [27:21<02:23, 71.94s/it]"
     ]
    },
    {
     "name": "stdout",
     "output_type": "stream",
     "text": [
      "\n",
      "Model Combination: Classifier 'xgbclassifier' | Regressor 'kneighborsregressor'\n",
      "Training Weighted RMSE: 0.0187\n",
      "Validation Weighted RMSE: 0.0449\n",
      "--------------------------------------------------\n"
     ]
    },
    {
     "name": "stderr",
     "output_type": "stream",
     "text": [
      "Model Grid Search:  96%|█████████▌| 23/24 [27:49<00:58, 58.75s/it]"
     ]
    },
    {
     "name": "stdout",
     "output_type": "stream",
     "text": [
      "\n",
      "Model Combination: Classifier 'xgbclassifier' | Regressor 'xgbregressor'\n",
      "Training Weighted RMSE: 0.0214\n",
      "Validation Weighted RMSE: 0.0422\n",
      "--------------------------------------------------\n"
     ]
    },
    {
     "name": "stderr",
     "output_type": "stream",
     "text": [
      "Model Grid Search: 100%|██████████| 24/24 [28:32<00:00, 71.34s/it]"
     ]
    },
    {
     "name": "stdout",
     "output_type": "stream",
     "text": [
      "\n",
      "Model Combination: Classifier 'xgbclassifier' | Regressor 'gradientboostingregressor'\n",
      "Training Weighted RMSE: 0.0620\n",
      "Validation Weighted RMSE: 0.0756\n",
      "--------------------------------------------------\n",
      "\n",
      "Best Model:\n",
      "Parameters: {'clf_name': 'xgbclassifier', 'reg_name': 'xgbregressor', 'clf_params': {'n_estimators': 10, 'max_depth': 10, 'random_state': 29}, 'reg_params': {'n_estimators': 10, 'max_depth': 10, 'random_state': 29, 'n_jobs': -1}}\n",
      "Validation RMSE: 0.0422\n",
      "Best Model Performance on validation set:\n",
      "Validation RMSE: 0.0422\n"
     ]
    },
    {
     "name": "stderr",
     "output_type": "stream",
     "text": [
      "\n"
     ]
    }
   ],
   "source": [
    "model_grid = {\n",
    "    \"clf_names\": ['randomforestclassifier', 'decisiontreeclassifier', 'kneighborsclassifier', 'xgbclassifier'],\n",
    "    \"reg_names\": ['randomforestregressor', 'linearregression', 'decisiontreeregressor', 'kneighborsregressor', 'xgbregressor', 'gradientboostingregressor'],\n",
    "    \"clf_params\": {\n",
    "        \"randomforestclassifier\": {\"n_estimators\": 10, \"max_depth\": 10, \"random_state\": 29, \"n_jobs\": -1},\n",
    "        \"decisiontreeclassifier\": {\"max_depth\": 10, \"random_state\": 29},\n",
    "        \"kneighborsclassifier\": {\"n_neighbors\": 5, \"n_jobs\": -1},\n",
    "        \"xgbclassifier\": {\"n_estimators\": 10, \"max_depth\": 10, \"random_state\": 29},\n",
    "    },\n",
    "    \"reg_params\": {\n",
    "        \"randomforestregressor\": {\"n_estimators\": 10, \"max_depth\": 10, \"random_state\": 29, \"n_jobs\": -1},\n",
    "        \"linearregression\": {\"n_jobs\": -1},\n",
    "        \"decisiontreeregressor\": {\"max_depth\": 10, \"random_state\": 29},\n",
    "        \"kneighborsregressor\": {\"n_neighbors\": 5, \"n_jobs\": -1},\n",
    "        \"xgbregressor\": {\"n_estimators\": 10, \"max_depth\": 10, \"random_state\": 29, \"n_jobs\": -1},\n",
    "        \"gradientboostingregressor\": {\"n_estimators\": 10, \"max_depth\": 10, \"random_state\": 29},\n",
    "    }\n",
    "}\n",
    "\n",
    "try:\n",
    "    best_model_2s, best_params_2s, best_val_rmse_2s = benchmark_2s_model_grid(\n",
    "        x_train,\n",
    "        y_train,\n",
    "        y_train_classif,\n",
    "        y_train_reg,\n",
    "        x_val,\n",
    "        y_val,\n",
    "        y_val_classif,\n",
    "        y_val_reg,\n",
    "        model_grid,\n",
    "        verbose=True,\n",
    "    )\n",
    "except KeyboardInterrupt:\n",
    "    print(\"KeyboardInterrupt: Stopping the benchmarking process.\")"
   ]
  },
  {
   "cell_type": "code",
   "execution_count": 11,
   "metadata": {},
   "outputs": [
    {
     "name": "stderr",
     "output_type": "stream",
     "text": [
      "Hyperparameter Search:   4%|▍         | 1/24 [05:10<1:58:57, 310.34s/it]"
     ]
    },
    {
     "name": "stdout",
     "output_type": "stream",
     "text": [
      "\n",
      "Parameters:\n",
      " Classifier params: {'n_neighbors': 5, 'weights': 'uniform', 'algorithm': 'auto', 'n_jobs': -1} \n",
      " Regressor params: {'n_estimators': 100, 'max_depth': 7, 'min_samples_split': 0.005, 'min_samples_leaf': 30, 'n_jobs': -1}\n",
      "Training Weighted RMSE: 0.0762\n",
      "Validation Weighted RMSE: 0.1005\n",
      "Validation Accuracy of Classifier: 0.9955\n",
      "--------------------------------------------------\n"
     ]
    },
    {
     "name": "stderr",
     "output_type": "stream",
     "text": [
      "Hyperparameter Search:   8%|▊         | 2/24 [10:11<1:51:52, 305.11s/it]"
     ]
    },
    {
     "name": "stdout",
     "output_type": "stream",
     "text": [
      "\n",
      "Parameters:\n",
      " Classifier params: {'n_neighbors': 5, 'weights': 'uniform', 'algorithm': 'auto', 'n_jobs': -1} \n",
      " Regressor params: {'n_estimators': 100, 'max_depth': 7, 'min_samples_split': 0.005, 'min_samples_leaf': 50, 'n_jobs': -1}\n",
      "Training Weighted RMSE: 0.0760\n",
      "Validation Weighted RMSE: 0.1003\n",
      "Validation Accuracy of Classifier: 0.9955\n",
      "--------------------------------------------------\n"
     ]
    },
    {
     "name": "stderr",
     "output_type": "stream",
     "text": [
      "Hyperparameter Search:  12%|█▎        | 3/24 [14:58<1:43:48, 296.59s/it]"
     ]
    },
    {
     "name": "stdout",
     "output_type": "stream",
     "text": [
      "\n",
      "Parameters:\n",
      " Classifier params: {'n_neighbors': 5, 'weights': 'uniform', 'algorithm': 'auto', 'n_jobs': -1} \n",
      " Regressor params: {'n_estimators': 100, 'max_depth': 7, 'min_samples_split': 0.01, 'min_samples_leaf': 30, 'n_jobs': -1}\n",
      "Training Weighted RMSE: 0.0791\n",
      "Validation Weighted RMSE: 0.1040\n",
      "Validation Accuracy of Classifier: 0.9955\n",
      "--------------------------------------------------\n"
     ]
    },
    {
     "name": "stderr",
     "output_type": "stream",
     "text": [
      "Hyperparameter Search:  17%|█▋        | 4/24 [21:09<1:48:39, 325.95s/it]"
     ]
    },
    {
     "name": "stdout",
     "output_type": "stream",
     "text": [
      "\n",
      "Parameters:\n",
      " Classifier params: {'n_neighbors': 5, 'weights': 'uniform', 'algorithm': 'auto', 'n_jobs': -1} \n",
      " Regressor params: {'n_estimators': 100, 'max_depth': 7, 'min_samples_split': 0.01, 'min_samples_leaf': 50, 'n_jobs': -1}\n",
      "Training Weighted RMSE: 0.0798\n",
      "Validation Weighted RMSE: 0.1051\n",
      "Validation Accuracy of Classifier: 0.9955\n",
      "--------------------------------------------------\n"
     ]
    },
    {
     "name": "stderr",
     "output_type": "stream",
     "text": [
      "Hyperparameter Search:  21%|██        | 5/24 [27:05<1:46:39, 336.84s/it]"
     ]
    },
    {
     "name": "stdout",
     "output_type": "stream",
     "text": [
      "\n",
      "Parameters:\n",
      " Classifier params: {'n_neighbors': 5, 'weights': 'uniform', 'algorithm': 'auto', 'n_jobs': -1} \n",
      " Regressor params: {'n_estimators': 100, 'max_depth': 10, 'min_samples_split': 0.005, 'min_samples_leaf': 30, 'n_jobs': -1}\n",
      "Training Weighted RMSE: 0.0583\n",
      "Validation Weighted RMSE: 0.0933\n",
      "Validation Accuracy of Classifier: 0.9955\n",
      "--------------------------------------------------\n"
     ]
    },
    {
     "name": "stderr",
     "output_type": "stream",
     "text": [
      "Hyperparameter Search:  25%|██▌       | 6/24 [33:57<1:48:44, 362.50s/it]"
     ]
    },
    {
     "name": "stdout",
     "output_type": "stream",
     "text": [
      "\n",
      "Parameters:\n",
      " Classifier params: {'n_neighbors': 5, 'weights': 'uniform', 'algorithm': 'auto', 'n_jobs': -1} \n",
      " Regressor params: {'n_estimators': 100, 'max_depth': 10, 'min_samples_split': 0.005, 'min_samples_leaf': 50, 'n_jobs': -1}\n",
      "Training Weighted RMSE: 0.0591\n",
      "Validation Weighted RMSE: 0.0940\n",
      "Validation Accuracy of Classifier: 0.9955\n",
      "--------------------------------------------------\n"
     ]
    },
    {
     "name": "stderr",
     "output_type": "stream",
     "text": [
      "Hyperparameter Search:  29%|██▉       | 7/24 [40:10<1:43:38, 365.82s/it]"
     ]
    },
    {
     "name": "stdout",
     "output_type": "stream",
     "text": [
      "\n",
      "Parameters:\n",
      " Classifier params: {'n_neighbors': 5, 'weights': 'uniform', 'algorithm': 'auto', 'n_jobs': -1} \n",
      " Regressor params: {'n_estimators': 100, 'max_depth': 10, 'min_samples_split': 0.01, 'min_samples_leaf': 30, 'n_jobs': -1}\n",
      "Training Weighted RMSE: 0.0669\n",
      "Validation Weighted RMSE: 0.1010\n",
      "Validation Accuracy of Classifier: 0.9955\n",
      "--------------------------------------------------\n"
     ]
    },
    {
     "name": "stderr",
     "output_type": "stream",
     "text": [
      "Hyperparameter Search:  33%|███▎      | 8/24 [46:30<1:38:44, 370.25s/it]"
     ]
    },
    {
     "name": "stdout",
     "output_type": "stream",
     "text": [
      "\n",
      "Parameters:\n",
      " Classifier params: {'n_neighbors': 5, 'weights': 'uniform', 'algorithm': 'auto', 'n_jobs': -1} \n",
      " Regressor params: {'n_estimators': 100, 'max_depth': 10, 'min_samples_split': 0.01, 'min_samples_leaf': 50, 'n_jobs': -1}\n",
      "Training Weighted RMSE: 0.0672\n",
      "Validation Weighted RMSE: 0.1008\n",
      "Validation Accuracy of Classifier: 0.9955\n",
      "--------------------------------------------------\n"
     ]
    },
    {
     "name": "stderr",
     "output_type": "stream",
     "text": [
      "Hyperparameter Search:  38%|███▊      | 9/24 [51:52<1:28:47, 355.18s/it]"
     ]
    },
    {
     "name": "stdout",
     "output_type": "stream",
     "text": [
      "\n",
      "Parameters:\n",
      " Classifier params: {'n_neighbors': 5, 'weights': 'uniform', 'algorithm': 'auto', 'n_jobs': -1} \n",
      " Regressor params: {'n_estimators': 100, 'max_depth': 15, 'min_samples_split': 0.005, 'min_samples_leaf': 30, 'n_jobs': -1}\n",
      "Training Weighted RMSE: 0.0523\n",
      "Validation Weighted RMSE: 0.0876\n",
      "Validation Accuracy of Classifier: 0.9955\n",
      "--------------------------------------------------\n"
     ]
    },
    {
     "name": "stderr",
     "output_type": "stream",
     "text": [
      "Hyperparameter Search:  42%|████▏     | 10/24 [57:14<1:20:32, 345.19s/it]"
     ]
    },
    {
     "name": "stdout",
     "output_type": "stream",
     "text": [
      "\n",
      "Parameters:\n",
      " Classifier params: {'n_neighbors': 5, 'weights': 'uniform', 'algorithm': 'auto', 'n_jobs': -1} \n",
      " Regressor params: {'n_estimators': 100, 'max_depth': 15, 'min_samples_split': 0.005, 'min_samples_leaf': 50, 'n_jobs': -1}\n",
      "Training Weighted RMSE: 0.0526\n",
      "Validation Weighted RMSE: 0.0883\n",
      "Validation Accuracy of Classifier: 0.9955\n",
      "--------------------------------------------------\n"
     ]
    },
    {
     "name": "stderr",
     "output_type": "stream",
     "text": [
      "Hyperparameter Search:  46%|████▌     | 11/24 [1:02:30<1:12:50, 336.20s/it]"
     ]
    },
    {
     "name": "stdout",
     "output_type": "stream",
     "text": [
      "\n",
      "Parameters:\n",
      " Classifier params: {'n_neighbors': 5, 'weights': 'uniform', 'algorithm': 'auto', 'n_jobs': -1} \n",
      " Regressor params: {'n_estimators': 100, 'max_depth': 15, 'min_samples_split': 0.01, 'min_samples_leaf': 30, 'n_jobs': -1}\n",
      "Training Weighted RMSE: 0.0649\n",
      "Validation Weighted RMSE: 0.1010\n",
      "Validation Accuracy of Classifier: 0.9955\n",
      "--------------------------------------------------\n"
     ]
    },
    {
     "name": "stderr",
     "output_type": "stream",
     "text": [
      "Hyperparameter Search:  50%|█████     | 12/24 [1:09:22<1:11:51, 359.29s/it]"
     ]
    },
    {
     "name": "stdout",
     "output_type": "stream",
     "text": [
      "\n",
      "Parameters:\n",
      " Classifier params: {'n_neighbors': 5, 'weights': 'uniform', 'algorithm': 'auto', 'n_jobs': -1} \n",
      " Regressor params: {'n_estimators': 100, 'max_depth': 15, 'min_samples_split': 0.01, 'min_samples_leaf': 50, 'n_jobs': -1}\n",
      "Training Weighted RMSE: 0.0651\n",
      "Validation Weighted RMSE: 0.1010\n",
      "Validation Accuracy of Classifier: 0.9955\n",
      "--------------------------------------------------\n"
     ]
    },
    {
     "name": "stderr",
     "output_type": "stream",
     "text": [
      "Hyperparameter Search:  54%|█████▍    | 13/24 [1:16:10<1:08:34, 374.06s/it]"
     ]
    },
    {
     "name": "stdout",
     "output_type": "stream",
     "text": [
      "\n",
      "Parameters:\n",
      " Classifier params: {'n_neighbors': 5, 'weights': 'uniform', 'algorithm': 'auto', 'n_jobs': -1} \n",
      " Regressor params: {'n_estimators': 200, 'max_depth': 7, 'min_samples_split': 0.005, 'min_samples_leaf': 30, 'n_jobs': -1}\n",
      "Training Weighted RMSE: 0.0760\n",
      "Validation Weighted RMSE: 0.1002\n",
      "Validation Accuracy of Classifier: 0.9955\n",
      "--------------------------------------------------\n"
     ]
    },
    {
     "name": "stderr",
     "output_type": "stream",
     "text": [
      "Hyperparameter Search:  58%|█████▊    | 14/24 [1:23:26<1:05:27, 392.73s/it]"
     ]
    },
    {
     "name": "stdout",
     "output_type": "stream",
     "text": [
      "\n",
      "Parameters:\n",
      " Classifier params: {'n_neighbors': 5, 'weights': 'uniform', 'algorithm': 'auto', 'n_jobs': -1} \n",
      " Regressor params: {'n_estimators': 200, 'max_depth': 7, 'min_samples_split': 0.005, 'min_samples_leaf': 50, 'n_jobs': -1}\n",
      "Training Weighted RMSE: 0.0761\n",
      "Validation Weighted RMSE: 0.1002\n",
      "Validation Accuracy of Classifier: 0.9955\n",
      "--------------------------------------------------\n"
     ]
    },
    {
     "name": "stderr",
     "output_type": "stream",
     "text": [
      "Hyperparameter Search:  62%|██████▎   | 15/24 [1:31:13<1:02:15, 415.10s/it]"
     ]
    },
    {
     "name": "stdout",
     "output_type": "stream",
     "text": [
      "\n",
      "Parameters:\n",
      " Classifier params: {'n_neighbors': 5, 'weights': 'uniform', 'algorithm': 'auto', 'n_jobs': -1} \n",
      " Regressor params: {'n_estimators': 200, 'max_depth': 7, 'min_samples_split': 0.01, 'min_samples_leaf': 30, 'n_jobs': -1}\n",
      "Training Weighted RMSE: 0.0794\n",
      "Validation Weighted RMSE: 0.1045\n",
      "Validation Accuracy of Classifier: 0.9955\n",
      "--------------------------------------------------\n"
     ]
    },
    {
     "name": "stderr",
     "output_type": "stream",
     "text": [
      "Hyperparameter Search:  67%|██████▋   | 16/24 [1:38:58<57:19, 429.92s/it]  "
     ]
    },
    {
     "name": "stdout",
     "output_type": "stream",
     "text": [
      "\n",
      "Parameters:\n",
      " Classifier params: {'n_neighbors': 5, 'weights': 'uniform', 'algorithm': 'auto', 'n_jobs': -1} \n",
      " Regressor params: {'n_estimators': 200, 'max_depth': 7, 'min_samples_split': 0.01, 'min_samples_leaf': 50, 'n_jobs': -1}\n",
      "Training Weighted RMSE: 0.0795\n",
      "Validation Weighted RMSE: 0.1046\n",
      "Validation Accuracy of Classifier: 0.9955\n",
      "--------------------------------------------------\n"
     ]
    },
    {
     "name": "stderr",
     "output_type": "stream",
     "text": [
      "Hyperparameter Search:  71%|███████   | 17/24 [1:46:55<51:49, 444.20s/it]"
     ]
    },
    {
     "name": "stdout",
     "output_type": "stream",
     "text": [
      "\n",
      "Parameters:\n",
      " Classifier params: {'n_neighbors': 5, 'weights': 'uniform', 'algorithm': 'auto', 'n_jobs': -1} \n",
      " Regressor params: {'n_estimators': 200, 'max_depth': 10, 'min_samples_split': 0.005, 'min_samples_leaf': 30, 'n_jobs': -1}\n",
      "Training Weighted RMSE: 0.0582\n",
      "Validation Weighted RMSE: 0.0929\n",
      "Validation Accuracy of Classifier: 0.9955\n",
      "--------------------------------------------------\n"
     ]
    },
    {
     "name": "stderr",
     "output_type": "stream",
     "text": [
      "Hyperparameter Search:  75%|███████▌  | 18/24 [1:54:53<45:26, 454.41s/it]"
     ]
    },
    {
     "name": "stdout",
     "output_type": "stream",
     "text": [
      "\n",
      "Parameters:\n",
      " Classifier params: {'n_neighbors': 5, 'weights': 'uniform', 'algorithm': 'auto', 'n_jobs': -1} \n",
      " Regressor params: {'n_estimators': 200, 'max_depth': 10, 'min_samples_split': 0.005, 'min_samples_leaf': 50, 'n_jobs': -1}\n",
      "Training Weighted RMSE: 0.0587\n",
      "Validation Weighted RMSE: 0.0936\n",
      "Validation Accuracy of Classifier: 0.9955\n",
      "--------------------------------------------------\n"
     ]
    },
    {
     "name": "stderr",
     "output_type": "stream",
     "text": [
      "Hyperparameter Search:  79%|███████▉  | 19/24 [2:02:47<38:21, 460.40s/it]"
     ]
    },
    {
     "name": "stdout",
     "output_type": "stream",
     "text": [
      "\n",
      "Parameters:\n",
      " Classifier params: {'n_neighbors': 5, 'weights': 'uniform', 'algorithm': 'auto', 'n_jobs': -1} \n",
      " Regressor params: {'n_estimators': 200, 'max_depth': 10, 'min_samples_split': 0.01, 'min_samples_leaf': 30, 'n_jobs': -1}\n",
      "Training Weighted RMSE: 0.0672\n",
      "Validation Weighted RMSE: 0.1010\n",
      "Validation Accuracy of Classifier: 0.9955\n",
      "--------------------------------------------------\n"
     ]
    },
    {
     "name": "stderr",
     "output_type": "stream",
     "text": [
      "Hyperparameter Search:  83%|████████▎ | 20/24 [2:10:12<30:22, 455.68s/it]"
     ]
    },
    {
     "name": "stdout",
     "output_type": "stream",
     "text": [
      "\n",
      "Parameters:\n",
      " Classifier params: {'n_neighbors': 5, 'weights': 'uniform', 'algorithm': 'auto', 'n_jobs': -1} \n",
      " Regressor params: {'n_estimators': 200, 'max_depth': 10, 'min_samples_split': 0.01, 'min_samples_leaf': 50, 'n_jobs': -1}\n",
      "Training Weighted RMSE: 0.0672\n",
      "Validation Weighted RMSE: 0.1007\n",
      "Validation Accuracy of Classifier: 0.9955\n",
      "--------------------------------------------------\n"
     ]
    },
    {
     "name": "stderr",
     "output_type": "stream",
     "text": [
      "Hyperparameter Search:  88%|████████▊ | 21/24 [2:18:23<23:18, 466.28s/it]"
     ]
    },
    {
     "name": "stdout",
     "output_type": "stream",
     "text": [
      "\n",
      "Parameters:\n",
      " Classifier params: {'n_neighbors': 5, 'weights': 'uniform', 'algorithm': 'auto', 'n_jobs': -1} \n",
      " Regressor params: {'n_estimators': 200, 'max_depth': 15, 'min_samples_split': 0.005, 'min_samples_leaf': 30, 'n_jobs': -1}\n",
      "Training Weighted RMSE: 0.0523\n",
      "Validation Weighted RMSE: 0.0878\n",
      "Validation Accuracy of Classifier: 0.9955\n",
      "--------------------------------------------------\n"
     ]
    },
    {
     "name": "stderr",
     "output_type": "stream",
     "text": [
      "Hyperparameter Search:  92%|█████████▏| 22/24 [2:27:00<16:03, 481.54s/it]"
     ]
    },
    {
     "name": "stdout",
     "output_type": "stream",
     "text": [
      "\n",
      "Parameters:\n",
      " Classifier params: {'n_neighbors': 5, 'weights': 'uniform', 'algorithm': 'auto', 'n_jobs': -1} \n",
      " Regressor params: {'n_estimators': 200, 'max_depth': 15, 'min_samples_split': 0.005, 'min_samples_leaf': 50, 'n_jobs': -1}\n",
      "Training Weighted RMSE: 0.0527\n",
      "Validation Weighted RMSE: 0.0885\n",
      "Validation Accuracy of Classifier: 0.9955\n",
      "--------------------------------------------------\n"
     ]
    },
    {
     "name": "stderr",
     "output_type": "stream",
     "text": [
      "Hyperparameter Search:  96%|█████████▌| 23/24 [2:36:19<08:24, 504.58s/it]"
     ]
    },
    {
     "name": "stdout",
     "output_type": "stream",
     "text": [
      "\n",
      "Parameters:\n",
      " Classifier params: {'n_neighbors': 5, 'weights': 'uniform', 'algorithm': 'auto', 'n_jobs': -1} \n",
      " Regressor params: {'n_estimators': 200, 'max_depth': 15, 'min_samples_split': 0.01, 'min_samples_leaf': 30, 'n_jobs': -1}\n",
      "Training Weighted RMSE: 0.0647\n",
      "Validation Weighted RMSE: 0.1007\n",
      "Validation Accuracy of Classifier: 0.9955\n",
      "--------------------------------------------------\n"
     ]
    },
    {
     "name": "stderr",
     "output_type": "stream",
     "text": [
      "Hyperparameter Search: 100%|██████████| 24/24 [2:45:39<00:00, 414.14s/it]"
     ]
    },
    {
     "name": "stdout",
     "output_type": "stream",
     "text": [
      "\n",
      "Parameters:\n",
      " Classifier params: {'n_neighbors': 5, 'weights': 'uniform', 'algorithm': 'auto', 'n_jobs': -1} \n",
      " Regressor params: {'n_estimators': 200, 'max_depth': 15, 'min_samples_split': 0.01, 'min_samples_leaf': 50, 'n_jobs': -1}\n",
      "Training Weighted RMSE: 0.0652\n",
      "Validation Weighted RMSE: 0.1012\n",
      "Validation Accuracy of Classifier: 0.9955\n",
      "--------------------------------------------------\n",
      "\n",
      "Best Model:\n",
      "Best Parameters: {'clf_params': {'n_neighbors': 5, 'weights': 'uniform', 'algorithm': 'auto', 'n_jobs': -1}, 'reg_params': {'n_estimators': 100, 'max_depth': 15, 'min_samples_split': 0.005, 'min_samples_leaf': 30, 'n_jobs': -1}}\n",
      "Validation RMSE: 0.0876\n",
      "Validation Accuracy of Classifier: 0.9955\n"
     ]
    },
    {
     "name": "stderr",
     "output_type": "stream",
     "text": [
      "\n"
     ]
    }
   ],
   "source": [
    "clf_name = \"kneighborsclassifier\"\n",
    "reg_name = \"randomforestregressor\"\n",
    "param_grid = {\n",
    "    \"clf\": {\n",
    "        'n_neighbors': [5], 'weights': ['uniform'], 'algorithm': ['auto'],\n",
    "    },\n",
    "    \"reg\": {\n",
    "        \"n_estimators\": [100, 200],\n",
    "        \"max_depth\": [7, 10, 15],\n",
    "        \"min_samples_split\": [0.005, 0.01],\n",
    "        \"min_samples_leaf\": [30, 50],\n",
    "    },\n",
    "}\n",
    "\n",
    "try:\n",
    "    best_model_2s, best_params_2s, best_val_rmse_2s = benchmark_2s_param_grid(\n",
    "        x_train,\n",
    "        y_train,\n",
    "        y_train_classif,\n",
    "        y_train_reg,\n",
    "        x_val,\n",
    "        y_val,\n",
    "        y_val_classif,\n",
    "        y_val_reg,\n",
    "        clf_name,\n",
    "        reg_name,\n",
    "        param_grid,\n",
    "        verbose=True,\n",
    "    )\n",
    "except KeyboardInterrupt:\n",
    "    print(\"KeyboardInterrupt: Stopping the benchmarking process.\")"
   ]
  },
  {
   "cell_type": "code",
   "execution_count": 7,
   "metadata": {},
   "outputs": [
    {
     "name": "stdout",
     "output_type": "stream",
     "text": [
      "0.09126748525337898\n",
      "0.11458981865327754\n"
     ]
    }
   ],
   "source": [
    "print(evaluate_model(best_model_2s, x_train, y_train))\n",
    "print(evaluate_model(best_model_2s, x_val, y_val))"
   ]
  },
  {
   "cell_type": "code",
   "execution_count": 13,
   "metadata": {},
   "outputs": [
    {
     "name": "stdout",
     "output_type": "stream",
     "text": [
      "Training Weighted RMSE: 0.0534\n",
      "Validation Weighted RMSE: 0.0888\n",
      "Validation Accuracy of Classifier: 0.9955\n"
     ]
    }
   ],
   "source": [
    "clf_params = {\n",
    "    'n_neighbors': 5, \n",
    "    'weights': 'uniform', \n",
    "    'algorithm': 'auto', 'n_jobs': -1\n",
    "}\n",
    "reg_params = {'n_estimators': 100, 'max_depth': 15, 'min_samples_split': 0.005, 'min_samples_leaf': 50, 'n_jobs': -1}\n",
    "\n",
    "two_stage_rf = run_two_stage_experiment(\n",
    "    x_train,\n",
    "    y_train,\n",
    "    y_train_classif,\n",
    "    y_train_reg,\n",
    "    x_val,\n",
    "    y_val,\n",
    "    y_val_classif,\n",
    "    y_val_reg,\n",
    "    clf_name=\"kneighborsclassifier\",\n",
    "    reg_name=\"randomforestregressor\",\n",
    "    clf_params=clf_params,\n",
    "    reg_params=reg_params,\n",
    ")"
   ]
  },
  {
   "cell_type": "markdown",
   "metadata": {},
   "source": [
    "## Predict"
   ]
  },
  {
   "cell_type": "code",
   "execution_count": null,
   "metadata": {},
   "outputs": [],
   "source": [
    "write_submissions(\n",
    "    xgb,\n",
    "    test_x_path,\n",
    "    \"submissions/xgb_best.csv\",\n",
    "    use_embed=False,\n",
    "    **test_params_pipeline,\n",
    ")"
   ]
  },
  {
   "cell_type": "code",
   "execution_count": null,
   "metadata": {},
   "outputs": [],
   "source": [
    "write_submissions(\n",
    "    best_rf_model,\n",
    "    test_x_path,\n",
    "    \"submissions/rf_best.csv\",\n",
    "    use_embed=False,\n",
    "    **test_params_pipeline,\n",
    ")"
   ]
  },
  {
   "cell_type": "code",
   "execution_count": 14,
   "metadata": {},
   "outputs": [
    {
     "name": "stdout",
     "output_type": "stream",
     "text": [
      "Using 13 features\n"
     ]
    }
   ],
   "source": [
    "write_submissions(\n",
    "    two_stage_rf,\n",
    "    test_x_path,\n",
    "    \"submissions/two_stage_knn_rf_best.csv\",\n",
    "    use_embed=False,\n",
    "    **test_params_pipeline,\n",
    ")"
   ]
  },
  {
   "cell_type": "code",
   "execution_count": 14,
   "metadata": {},
   "outputs": [
    {
     "name": "stdout",
     "output_type": "stream",
     "text": [
      "Using 13 features\n",
      "Using 13 features\n",
      "Using 13 features\n",
      "Using 13 features\n",
      "Using 13 features\n",
      "Using 13 features\n",
      "Using 13 features\n"
     ]
    }
   ],
   "source": [
    "#params_pipeline_dl[\"split\"] = False\n",
    "#params_pipeline_dl[\"split_humidity\"] = False\n",
    "submit_nn(\n",
    "    \"checkpoints/ramtnet_base.pth\",\n",
    "    \"RAMTNet\",\n",
    "    params_ramt[\"model_params\"],\n",
    "    test_params_pipeline_dl,\n",
    "    test_x_path,\n",
    "    \"submissions/ramtnet_base.csv\",\n",
    ")\n",
    "submit_nn(\n",
    "    \"checkpoints/ramtnet_uda_base.pth\",\n",
    "    \"RAMTNet\",\n",
    "    params_ramt[\"model_params\"],\n",
    "    test_params_pipeline_dl,\n",
    "    test_x_path,\n",
    "    \"submissions/ramtnet_uda_base.csv\",\n",
    ")\n",
    "submit_nn(\n",
    "    \"checkpoints/reg_v3_base.pth\",\n",
    "    \"RegressorV3\",\n",
    "    params_reg_v3[\"model_params\"],\n",
    "    test_params_pipeline_dl,\n",
    "    test_x_path,\n",
    "    \"submissions/reg_v3_base.csv\",\n",
    ")\n",
    "submit_nn(\n",
    "    \"checkpoints/reg_v3_uda_base.pth\",\n",
    "    \"RegressorV3\",\n",
    "    params_reg_v3[\"model_params\"],\n",
    "    test_params_pipeline_dl,\n",
    "    test_x_path,\n",
    "    \"submissions/reg_v3_uda_base.csv\",\n",
    ")\n",
    "submit_nn(\n",
    "    \"checkpoints/nnreg_base.pth\",\n",
    "    \"NNRegressor\",\n",
    "    params_nnreg[\"model_params\"],\n",
    "    test_params_pipeline_dl,\n",
    "    test_x_path,\n",
    "    \"submissions/nnreg_base.csv\",\n",
    ")\n",
    "submit_nn(\n",
    "    \"checkpoints/gasdet_base.pth\",\n",
    "    \"GasDetectionModel\",\n",
    "    params_gasdet[\"model_params\"],\n",
    "    test_params_pipeline_dl,\n",
    "    test_x_path,\n",
    "    \"submissions/gasdet_base.csv\",\n",
    ")\n",
    "submit_nn(\n",
    "    \"checkpoints/cnn_base.pth\",\n",
    "    \"SensorCNN\",\n",
    "    params_cnn[\"model_params\"],\n",
    "    test_params_pipeline_dl,\n",
    "    test_x_path,\n",
    "    \"submissions/cnn_base.csv\",\n",
    ")"
   ]
  }
 ],
 "metadata": {
  "kernelspec": {
   "display_name": "idgaz",
   "language": "python",
   "name": "python3"
  },
  "language_info": {
   "codemirror_mode": {
    "name": "ipython",
    "version": 3
   },
   "file_extension": ".py",
   "mimetype": "text/x-python",
   "name": "python",
   "nbconvert_exporter": "python",
   "pygments_lexer": "ipython3",
   "version": "3.12.2"
  }
 },
 "nbformat": 4,
 "nbformat_minor": 2
}
