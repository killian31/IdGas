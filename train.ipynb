{
 "cells": [
  {
   "cell_type": "markdown",
   "metadata": {},
   "source": [
    "# Training models"
   ]
  },
  {
   "cell_type": "markdown",
   "metadata": {},
   "source": [
    "## Imports"
   ]
  },
  {
   "cell_type": "code",
   "execution_count": 1,
   "metadata": {},
   "outputs": [],
   "source": [
    "from data_preprocessing import (\n",
    "    full_pipeline,\n",
    "    splits_to_dataloaders,\n",
    "    split_classif_reg_targets,\n",
    ")\n",
    "from random_forest import run_experiment as run_random_forest_experiment\n",
    "from random_forest import benchmark_random_forest\n",
    "from two_stage_rf import run_experiment as run_two_stage_rf_experiment\n",
    "from xg_boost import run_experiment as run_xgboost_experiment\n",
    "from xg_boost import benchmark_xgboost\n",
    "from nn import run_experiment as run_nn_experiment\n",
    "from nn import evaluate_nn_regressor, RegressorV3, submit_nn\n",
    "from linreg import run_experiment as run_linreg_experiment\n",
    "from utils import write_submissions, evaluate_model, stratify_by_humidity\n",
    "from residual_attention_net import RAMTNet\n",
    "import matplotlib.pyplot as plt\n",
    "import torch\n",
    "import pandas as pd\n",
    "import numpy as np\n",
    "import os\n",
    "\n",
    "os.environ[\"KMP_DUPLICATE_LIB_OK\"] = \"True\""
   ]
  },
  {
   "cell_type": "markdown",
   "metadata": {},
   "source": [
    "## Load and prepare data"
   ]
  },
  {
   "cell_type": "code",
   "execution_count": 2,
   "metadata": {},
   "outputs": [
    {
     "name": "stdout",
     "output_type": "stream",
     "text": [
      "X train shape: (176676, 14)\n",
      "Y train shape: (176676, 23)\n",
      "X val shape: (26257, 14)\n",
      "Y val shape: (26257, 23)\n",
      "---\n",
      "X test shape: (134673, 14)\n",
      "---\n"
     ]
    }
   ],
   "source": [
    "data_dir = \"./data/\"\n",
    "train_x_path = os.path.join(data_dir, \"x_train_T9QMMVq.csv\")\n",
    "train_y_path = os.path.join(data_dir, \"y_train_R0MqWmu.csv\")\n",
    "test_x_path = os.path.join(data_dir, \"x_test_9F13O5s.csv\")\n",
    "\n",
    "params_pipeline_feateng = {\n",
    "    \"split_humidity\": True,\n",
    "    \"h_threshold\": 0.211,\n",
    "    \"split\": False,\n",
    "    \"val_proportion\": 0.5,\n",
    "    \"rescale\": False,\n",
    "    \"reduce_features\": False,\n",
    "    \"augment\": False,\n",
    "    \"apply_feat_eng\": True,\n",
    "    \"polynomial_degree\": 2,\n",
    "    \"include_group_interactions\": True,\n",
    "    \"include_humidity_interactions\": True,\n",
    "    \"feature_selection\": False,\n",
    "    \"k_features\": 30,\n",
    "    \"remove_outliers\": False,\n",
    "    \"k\": 10.0,\n",
    "    \"binarize_humidity\": False,\n",
    "    \"n_bins\": 5,\n",
    "    \"remove_humidity\": False,\n",
    "}\n",
    "\n",
    "params_pipeline = {\n",
    "    \"split_humidity\": True,\n",
    "    \"h_threshold\": 0.211,\n",
    "    \"split\": False,\n",
    "    \"val_proportion\": 0.5,\n",
    "    \"rescale\": False,\n",
    "    \"reduce_features\": False,\n",
    "    \"augment\": False,\n",
    "    \"apply_feat_eng\": False,\n",
    "    \"polynomial_degree\": 2,\n",
    "    \"include_group_interactions\": True,\n",
    "    \"include_humidity_interactions\": True,\n",
    "    \"feature_selection\": False,\n",
    "    \"k_features\": 30,\n",
    "    \"remove_outliers\": False,\n",
    "    \"k\": 10.0,\n",
    "    \"binarize_humidity\": False,\n",
    "    \"n_bins\": 5,\n",
    "    \"remove_humidity\": False,\n",
    "}\n",
    "\n",
    "x_train, y_train, x_val, y_val = full_pipeline(\n",
    "    train_x_path, train_y_path, **params_pipeline\n",
    ")\n",
    "x_test = full_pipeline(test_x_path, None, **params_pipeline)\n",
    "\n",
    "# Create stratified validation sets\n",
    "# x_val_strata, y_val_strata, labels = stratify_by_humidity(x_val, y_val, n_strata=5)\n",
    "\n",
    "print(\"X train shape:\", x_train.shape)\n",
    "print(\"Y train shape:\", y_train.shape)\n",
    "print(\"X val shape:\", x_val.shape)\n",
    "print(\"Y val shape:\", y_val.shape)\n",
    "print(\"---\")\n",
    "print(\"X test shape:\", x_test.shape)\n",
    "print(\"---\")"
   ]
  },
  {
   "cell_type": "markdown",
   "metadata": {},
   "source": [
    "## Standard Regressors"
   ]
  },
  {
   "cell_type": "markdown",
   "metadata": {},
   "source": [
    "### Random Forest Regressor"
   ]
  },
  {
   "cell_type": "code",
   "execution_count": 8,
   "metadata": {},
   "outputs": [
    {
     "name": "stdout",
     "output_type": "stream",
     "text": [
      "Basic Random Forest\n",
      "Training Weighted RMSE: 0.1183\n",
      "Validation Weighted RMSE: 0.1416\n"
     ]
    }
   ],
   "source": [
    "print(\"Basic Random Forest\")\n",
    "rf_model = run_random_forest_experiment(x_train, y_train, x_val, y_val)"
   ]
  },
  {
   "cell_type": "code",
   "execution_count": null,
   "metadata": {},
   "outputs": [],
   "source": [
    "param_grid = {\n",
    "    \"n_estimators\": [50, 100, 200],\n",
    "    \"max_depth\": [7, 10, 15, None],\n",
    "    \"min_samples_split\": [0.005, 0.01, 0.02],\n",
    "    \"min_samples_leaf\": [20, 30, 50],\n",
    "}\n",
    "benchmark = False\n",
    "if benchmark:\n",
    "    try:\n",
    "        best_model_rf, best_params_rf, best_val_rmse_rf = benchmark_random_forest(\n",
    "            x_train,\n",
    "            y_train,\n",
    "            x_val,\n",
    "            y_val,\n",
    "            param_grid=param_grid,\n",
    "            verbose=False,\n",
    "            subset_humidity=False,\n",
    "        )\n",
    "    except KeyboardInterrupt:\n",
    "        print(\"KeyboardInterrupt: Stopping the benchmarking process.\")"
   ]
  },
  {
   "cell_type": "code",
   "execution_count": 12,
   "metadata": {},
   "outputs": [
    {
     "name": "stdout",
     "output_type": "stream",
     "text": [
      "Training Weighted RMSE: 0.0703\n",
      "Validation Weighted RMSE: 0.0929\n"
     ]
    }
   ],
   "source": [
    "best_params = {\n",
    "    \"n_estimators\": 100,\n",
    "    \"max_depth\": None,\n",
    "    \"min_samples_split\": 0.005,\n",
    "    \"min_samples_leaf\": 20,\n",
    "    \"random_state\": 29,\n",
    "    \"n_jobs\": -1,\n",
    "}\n",
    "\n",
    "best_rf_model = run_random_forest_experiment(\n",
    "    x_train, y_train, x_val, y_val, params=best_params\n",
    ")"
   ]
  },
  {
   "cell_type": "markdown",
   "metadata": {},
   "source": [
    "### XGBoost"
   ]
  },
  {
   "cell_type": "code",
   "execution_count": null,
   "metadata": {},
   "outputs": [],
   "source": [
    "params = {\n",
    "    \"n_estimators\": 50,\n",
    "    \"max_depth\": 6,\n",
    "    \"learning_rate\": 0.05,\n",
    "    \"subsample\": 0.7,\n",
    "    \"colsample_bytree\": 0.7,\n",
    "    \"min_child_weight\": 10,\n",
    "    \"gamma\": 0,\n",
    "    \"reg_alpha\": 0,\n",
    "    \"reg_lambda\": 1,\n",
    "    \"random_state\": 29,\n",
    "    \"n_jobs\": -1,\n",
    "}\n",
    "xgb = run_xgboost_experiment(x_train, y_train, x_val, y_val, params=params)"
   ]
  },
  {
   "cell_type": "markdown",
   "metadata": {},
   "source": [
    "### Multi Linear Regression with feature selection"
   ]
  },
  {
   "cell_type": "code",
   "execution_count": 3,
   "metadata": {},
   "outputs": [
    {
     "name": "stdout",
     "output_type": "stream",
     "text": [
      "Train shape: (176676, 14)\n",
      "Val shape: (26257, 14)\n",
      "Training SelectiveLinearRegressor model...\n"
     ]
    },
    {
     "name": "stderr",
     "output_type": "stream",
     "text": [
      " 61%|██████    | 14/23 [00:01<00:01,  8.02it/s]/Users/kiki/.pyenv/versions/3.12.2/envs/idgaz/lib/python3.12/site-packages/statsmodels/regression/linear_model.py:1782: RuntimeWarning: invalid value encountered in scalar divide\n",
      "  return 1 - self.ssr/self.centered_tss\n",
      "100%|██████████| 23/23 [00:02<00:00,  7.96it/s]\n"
     ]
    },
    {
     "name": "stdout",
     "output_type": "stream",
     "text": [
      "Feature selection results:\n",
      "c01: 12 features selected - R^2 before selection: 0.5632865292638675 - R^2 after selection: 0.5632782350846592\n",
      "c02: 13 features selected - R^2 before selection: 0.09420782504771652 - R^2 after selection: 0.09420782504771652\n",
      "c03: 13 features selected - R^2 before selection: 0.4237128087042875 - R^2 after selection: 0.42371280870428774\n",
      "c04: 13 features selected - R^2 before selection: 0.4237128087042875 - R^2 after selection: 0.42371280870428774\n",
      "c05: 12 features selected - R^2 before selection: 0.2109982538125904 - R^2 after selection: 0.21099555954064142\n",
      "c06: 12 features selected - R^2 before selection: 0.2109982538125904 - R^2 after selection: 0.21099555954064142\n",
      "c07: 13 features selected - R^2 before selection: 0.09420782504771652 - R^2 after selection: 0.09420782504771652\n",
      "c08: 10 features selected - R^2 before selection: 0.03892509415785239 - R^2 after selection: 0.03886561926699361\n",
      "c09: 11 features selected - R^2 before selection: 0.1885818346242163 - R^2 after selection: 0.18856135941709795\n",
      "c10: 12 features selected - R^2 before selection: 0.08147243120246828 - R^2 after selection: 0.08147159682066174\n",
      "c11: 13 features selected - R^2 before selection: 0.4744443409864203 - R^2 after selection: 0.47444434098642063\n",
      "c12: 13 features selected - R^2 before selection: 0.1269463836675958 - R^2 after selection: 0.1269463836675958\n",
      "c13: 13 features selected - R^2 before selection: 0.3908363174132359 - R^2 after selection: 0.3908363174132359\n",
      "c14: 13 features selected - R^2 before selection: 0.4681684617071029 - R^2 after selection: 0.468168461707103\n",
      "c15: 1 features selected - R^2 before selection: nan - R^2 after selection: 1.0\n",
      "c16: 12 features selected - R^2 before selection: 0.036497491254247505 - R^2 after selection: 0.03649715321741853\n",
      "c17: 13 features selected - R^2 before selection: 0.14249593226168922 - R^2 after selection: 0.14249593226168933\n",
      "c18: 13 features selected - R^2 before selection: 0.38313209553146343 - R^2 after selection: 0.3831320955314633\n",
      "c19: 10 features selected - R^2 before selection: 0.16408959038304738 - R^2 after selection: 0.16406479013536435\n",
      "c20: 13 features selected - R^2 before selection: 0.09420782504771652 - R^2 after selection: 0.09420782504771652\n",
      "c21: 12 features selected - R^2 before selection: 0.2109982538125904 - R^2 after selection: 0.21099555954064142\n",
      "c22: 13 features selected - R^2 before selection: 0.4237128087042875 - R^2 after selection: 0.42371280870428774\n",
      "c23: 11 features selected - R^2 before selection: 0.11523482354972703 - R^2 after selection: 0.11522266208178\n"
     ]
    },
    {
     "name": "stderr",
     "output_type": "stream",
     "text": [
      "100%|██████████| 23/23 [00:00<00:00, 125.99it/s]\n",
      "100%|██████████| 23/23 [00:00<00:00, 814.42it/s]"
     ]
    },
    {
     "name": "stdout",
     "output_type": "stream",
     "text": [
      "Training Weighted RMSE: 0.1772\n",
      "Validation Weighted RMSE: 0.1865\n"
     ]
    },
    {
     "name": "stderr",
     "output_type": "stream",
     "text": [
      "\n"
     ]
    }
   ],
   "source": [
    "feat_eng = False\n",
    "if feat_eng:\n",
    "    x_train, y_train, x_val, y_val = full_pipeline(\n",
    "        train_x_path, train_y_path, **params_pipeline_feateng\n",
    "    )\n",
    "    x_test = full_pipeline(test_x_path, None, **params_pipeline_feateng)\n",
    "print(\"Train shape:\", x_train.shape)\n",
    "print(\"Val shape:\", x_val.shape)\n",
    "assert x_train.shape[1] == x_test.shape[1], (\n",
    "    f\"x_train and x_test have different number of features: \"\n",
    "    f\"{x_train.shape[1]} != {x_test.shape[1]}.\"\n",
    "    f\"'ID' in train: {('ID' in x_train.columns)},\"\n",
    "    f\"'ID' in test: {('ID' in x_test.columns)}.\"\n",
    ")\n",
    "try:\n",
    "    linear_model = run_linreg_experiment(x_train, y_train, x_val, y_val, alpha=0.05)\n",
    "except KeyboardInterrupt:\n",
    "    print(\"KeyboardInterrupt received. Stopping training.\")"
   ]
  },
  {
   "cell_type": "code",
   "execution_count": 8,
   "metadata": {},
   "outputs": [
    {
     "name": "stderr",
     "output_type": "stream",
     "text": [
      "100%|██████████| 23/23 [00:00<00:00, 53.57it/s]\n"
     ]
    },
    {
     "data": {
      "text/plain": [
       "0.13396921310406534"
      ]
     },
     "execution_count": 8,
     "metadata": {},
     "output_type": "execute_result"
    }
   ],
   "source": [
    "evaluate_model(linear_model, x_val, y_val)"
   ]
  },
  {
   "cell_type": "code",
   "execution_count": 9,
   "metadata": {},
   "outputs": [
    {
     "name": "stdout",
     "output_type": "stream",
     "text": [
      "Using 181 features\n"
     ]
    },
    {
     "name": "stderr",
     "output_type": "stream",
     "text": [
      "100%|██████████| 23/23 [00:03<00:00,  6.03it/s]\n"
     ]
    }
   ],
   "source": [
    "write_submissions(\n",
    "    linear_model,\n",
    "    test_x_path,\n",
    "    \"submissions_multi_regression_feateng.csv\",\n",
    "    use_embed=False,\n",
    "    **params_pipeline_feateng,\n",
    ")"
   ]
  },
  {
   "cell_type": "markdown",
   "metadata": {},
   "source": [
    "## Deep Learning"
   ]
  },
  {
   "cell_type": "markdown",
   "metadata": {},
   "source": [
    "### Rescale data"
   ]
  },
  {
   "cell_type": "code",
   "execution_count": 21,
   "metadata": {},
   "outputs": [],
   "source": [
    "params_pipeline_dl = {\n",
    "    \"split_humidity\": True,\n",
    "    \"h_threshold\": 0.211,\n",
    "    \"split\": False,\n",
    "    \"val_proportion\": 0.5,\n",
    "    \"rescale\": True,\n",
    "    \"reduce_features\": False,\n",
    "    \"augment\": False,\n",
    "    \"apply_feat_eng\": False,\n",
    "    \"polynomial_degree\": 1,\n",
    "    \"include_group_interactions\": False,\n",
    "    \"include_humidity_interactions\": False,\n",
    "    \"feature_selection\": False,\n",
    "    \"k_features\": 30,\n",
    "    \"remove_outliers\": False,\n",
    "    \"k\": 10.0,\n",
    "    \"binarize_humidity\": False,\n",
    "    \"n_bins\": 5,\n",
    "    \"remove_humidity\": False,\n",
    "}\n",
    "\n",
    "x_train, y_train, x_val, y_val = full_pipeline(\n",
    "    train_x_path, train_y_path, **params_pipeline_dl\n",
    ")\n",
    "x_test = full_pipeline(test_x_path, None, **params_pipeline_dl)"
   ]
  },
  {
   "cell_type": "markdown",
   "metadata": {},
   "source": [
    "### RAMTNet"
   ]
  },
  {
   "cell_type": "code",
   "execution_count": 22,
   "metadata": {},
   "outputs": [],
   "source": [
    "params_ramt = {\n",
    "    \"model_class\": \"RAMTNet\",\n",
    "    \"model_params\": {\n",
    "        \"num_features\": x_train.drop(columns=[\"ID\"]).shape[1],\n",
    "        \"num_tasks\": y_train.shape[1],\n",
    "        \"embed_dim\": 16,\n",
    "        \"num_heads\": 1,\n",
    "        \"shared_dim\": 128,\n",
    "        \"num_res_blocks\": 1,\n",
    "        \"dropout_rate\": 0.3,\n",
    "        \"head_hidden\": 64,\n",
    "    },\n",
    "    \"training_params\": {\n",
    "        \"n_epochs\": 10,\n",
    "        \"lr\": 5e-3,\n",
    "        \"weight_decay\": 1e-5,\n",
    "        \"batch_size\": 256,\n",
    "        \"patience\": 2,\n",
    "        \"factor\": 0.5,\n",
    "        \"min_lr\": 1e-6,\n",
    "        \"loss\": \"WeightedRMSELoss\",\n",
    "    },\n",
    "}"
   ]
  },
  {
   "cell_type": "code",
   "execution_count": 23,
   "metadata": {},
   "outputs": [
    {
     "name": "stdout",
     "output_type": "stream",
     "text": [
      "Number of trainable parameters: 228631\n"
     ]
    },
    {
     "name": "stderr",
     "output_type": "stream",
     "text": [
      "Epoch 10/10 - Train Loss: 0.0862, Val Loss: 0.2334, LR: 0.001250: 100%|██████████| 10/10 [05:27<00:00, 32.76s/it]\n"
     ]
    },
    {
     "name": "stdout",
     "output_type": "stream",
     "text": [
      "Final Validation Weighted RMSE: 0.2334\n"
     ]
    },
    {
     "data": {
      "image/png": "[encoded data removed]",
      "text/plain": [
       "<Figure size 1000x500 with 1 Axes>"
      ]
     },
     "metadata": {},
     "output_type": "display_data"
    }
   ],
   "source": [
    "try:\n",
    "    ramtnet = run_nn_experiment(\n",
    "        x_train,\n",
    "        y_train,\n",
    "        x_test,\n",
    "        [(x_val, y_val)],\n",
    "        params=params_ramt,\n",
    "        uda=False,\n",
    "        verbose=True,\n",
    "        plot_losses=True,\n",
    "        labels=None,\n",
    "    )\n",
    "except KeyboardInterrupt:\n",
    "    print(\"KeyboardInterrupt: Stopping training early.\")"
   ]
  },
  {
   "cell_type": "code",
   "execution_count": 24,
   "metadata": {},
   "outputs": [
    {
     "name": "stdout",
     "output_type": "stream",
     "text": [
      "Validation error: 0.23364904580516174\n"
     ]
    }
   ],
   "source": [
    "error = evaluate_model(ramtnet, x_val, y_val)\n",
    "print(f\"Validation error: {error}\")"
   ]
  },
  {
   "cell_type": "code",
   "execution_count": null,
   "metadata": {},
   "outputs": [],
   "source": [
    "torch.save(ramtnet.state_dict(), \"ramtnet_base.pth\")"
   ]
  },
  {
   "cell_type": "markdown",
   "metadata": {},
   "source": [
    "### RegressorV3"
   ]
  },
  {
   "cell_type": "code",
   "execution_count": 25,
   "metadata": {},
   "outputs": [
    {
     "name": "stdout",
     "output_type": "stream",
     "text": [
      "Number of trainable parameters: 8047\n"
     ]
    },
    {
     "name": "stderr",
     "output_type": "stream",
     "text": [
      "  0%|          | 0/10 [00:00<?, ?it/s]"
     ]
    },
    {
     "name": "stderr",
     "output_type": "stream",
     "text": [
      "Epoch 10/10 - Train Loss: 0.1229, Val Loss: 0.2544, LR: 0.001250: 100%|██████████| 10/10 [01:13<00:00,  7.34s/it]\n"
     ]
    },
    {
     "name": "stdout",
     "output_type": "stream",
     "text": [
      "Final Validation Weighted RMSE: 0.2544\n"
     ]
    },
    {
     "data": {
      "image/png": "[encoded data removed]",
      "text/plain": [
       "<Figure size 1000x500 with 1 Axes>"
      ]
     },
     "metadata": {},
     "output_type": "display_data"
    }
   ],
   "source": [
    "params_reg_v3 = {\n",
    "    \"model_class\": \"RegressorV3\",\n",
    "    \"model_params\": {\n",
    "        \"hidden_dim\": 64,\n",
    "        \"num_output\": 23,\n",
    "        \"humidity_dim\": 8,\n",
    "        \"group_embed_dim\": 16,\n",
    "        \"bias\": True,\n",
    "        \"dropout_rate\": 0.1,\n",
    "    },\n",
    "    \"training_params\": {\n",
    "        \"n_epochs\": 10,\n",
    "        \"lr\": 5e-3,\n",
    "        \"weight_decay\": 1e-5,\n",
    "        \"batch_size\": 256,\n",
    "        \"patience\": 2,\n",
    "        \"factor\": 0.5,\n",
    "        \"min_lr\": 1e-6,\n",
    "        \"loss\": \"WeightedRMSELoss\",\n",
    "    },\n",
    "}\n",
    "try:\n",
    "    reg_v3 = run_nn_experiment(\n",
    "        x_train,\n",
    "        y_train,\n",
    "        x_test,\n",
    "        [(x_val, y_val)],\n",
    "        uda=False,\n",
    "        params=params_reg_v3,\n",
    "        lambda_domain=0.25,\n",
    "        verbose=True,\n",
    "        plot_losses=True,\n",
    "        labels=None,\n",
    "        zero_weight=1.0,\n",
    "    )\n",
    "except KeyboardInterrupt:\n",
    "    print(\"KeyboardInterrupt: Stopping training early.\")"
   ]
  },
  {
   "cell_type": "code",
   "execution_count": 26,
   "metadata": {},
   "outputs": [
    {
     "name": "stdout",
     "output_type": "stream",
     "text": [
      "Weighted RMSE on validation set: 0.2545\n"
     ]
    }
   ],
   "source": [
    "print(f\"Weighted RMSE on validation set: {evaluate_model(reg_v3, x_val, y_val):.4f}\")"
   ]
  },
  {
   "cell_type": "code",
   "execution_count": null,
   "metadata": {},
   "outputs": [],
   "source": [
    "torch.save(reg_v3.state_dict(), \"reg_v3_base.pth\")"
   ]
  },
  {
   "cell_type": "markdown",
   "metadata": {},
   "source": [
    "### NNRegressor"
   ]
  },
  {
   "cell_type": "code",
   "execution_count": 27,
   "metadata": {},
   "outputs": [
    {
     "name": "stdout",
     "output_type": "stream",
     "text": [
      "Number of trainable parameters: 4247\n"
     ]
    },
    {
     "name": "stderr",
     "output_type": "stream",
     "text": [
      "Epoch 10/10 - Train Loss: 0.2171, Val Loss: 0.6806, LR: 0.002500: 100%|██████████| 10/10 [00:51<00:00,  5.12s/it]\n"
     ]
    },
    {
     "name": "stdout",
     "output_type": "stream",
     "text": [
      "Final Validation Weighted RMSE: 0.6806\n"
     ]
    },
    {
     "data": {
      "image/png": "[encoded data removed]",
      "text/plain": [
       "<Figure size 1000x500 with 1 Axes>"
      ]
     },
     "metadata": {},
     "output_type": "display_data"
    }
   ],
   "source": [
    "params_nnreg = {\n",
    "    \"model_class\": \"NNRegressor\",\n",
    "    \"model_params\": {\n",
    "        \"hidden_dim\": 64,\n",
    "        \"num_output\": 23,\n",
    "        \"bias\": True,\n",
    "        \"dropout_rate\": 0.1,\n",
    "    },\n",
    "    \"training_params\": {\n",
    "        \"n_epochs\": 10,\n",
    "        \"lr\": 5e-3,\n",
    "        \"weight_decay\": 1e-5,\n",
    "        \"batch_size\": 256,\n",
    "        \"patience\": 2,\n",
    "        \"factor\": 0.5,\n",
    "        \"min_lr\": 1e-6,\n",
    "        \"loss\": \"WeightedRMSELoss\",\n",
    "    },\n",
    "}\n",
    "\n",
    "try:\n",
    "    nnreg = run_nn_experiment(\n",
    "        x_train,\n",
    "        y_train,\n",
    "        x_test,\n",
    "        [(x_val, y_val)],\n",
    "        uda=False,\n",
    "        params=params_nnreg,\n",
    "        lambda_domain=0.25,\n",
    "        verbose=True,\n",
    "        plot_losses=True,\n",
    "        labels=None,\n",
    "        zero_weight=1.0,\n",
    "    )\n",
    "except KeyboardInterrupt:\n",
    "    print(\"KeyboardInterrupt: Stopping training early.\")"
   ]
  },
  {
   "cell_type": "code",
   "execution_count": 28,
   "metadata": {},
   "outputs": [
    {
     "name": "stdout",
     "output_type": "stream",
     "text": [
      "Weighted RMSE on validation set: 0.6807\n"
     ]
    }
   ],
   "source": [
    "print(f\"Weighted RMSE on validation set: {evaluate_model(nnreg, x_val, y_val):.4f}\")"
   ]
  },
  {
   "cell_type": "code",
   "execution_count": null,
   "metadata": {},
   "outputs": [],
   "source": [
    "torch.save(nnreg.state_dict(), \"nnreg_base.pth\")"
   ]
  },
  {
   "cell_type": "markdown",
   "metadata": {},
   "source": [
    "### GasDetectionModel"
   ]
  },
  {
   "cell_type": "code",
   "execution_count": 29,
   "metadata": {},
   "outputs": [
    {
     "name": "stdout",
     "output_type": "stream",
     "text": [
      "Number of trainable parameters: 8943\n"
     ]
    },
    {
     "name": "stderr",
     "output_type": "stream",
     "text": [
      "Epoch 10/10 - Train Loss: 0.0683, Val Loss: 0.2369, LR: 0.001250: 100%|██████████| 10/10 [01:11<00:00,  7.15s/it]\n"
     ]
    },
    {
     "name": "stdout",
     "output_type": "stream",
     "text": [
      "Final Validation Weighted RMSE: 0.2369\n"
     ]
    },
    {
     "data": {
      "image/png": "[encoded data removed]",
      "text/plain": [
       "<Figure size 1000x500 with 1 Axes>"
      ]
     },
     "metadata": {},
     "output_type": "display_data"
    }
   ],
   "source": [
    "params_gasdet = {\n",
    "    \"model_class\": \"GasDetectionModel\",\n",
    "    \"model_params\": {\n",
    "        \"hidden_dim\": 64,\n",
    "        \"num_output\": 23,\n",
    "        \"dropout_rate\": 0.1,\n",
    "    },\n",
    "    \"training_params\": {\n",
    "        \"n_epochs\": 10,\n",
    "        \"lr\": 5e-3,\n",
    "        \"weight_decay\": 1e-5,\n",
    "        \"batch_size\": 256,\n",
    "        \"patience\": 2,\n",
    "        \"factor\": 0.5,\n",
    "        \"min_lr\": 1e-6,\n",
    "        \"loss\": \"WeightedRMSELoss\",\n",
    "    },\n",
    "}\n",
    "\n",
    "try:\n",
    "    gasdet = run_nn_experiment(\n",
    "        x_train,\n",
    "        y_train,\n",
    "        x_test,\n",
    "        [(x_val, y_val)],\n",
    "        uda=False,\n",
    "        params=params_gasdet,\n",
    "        lambda_domain=0.25,\n",
    "        verbose=True,\n",
    "        plot_losses=True,\n",
    "        labels=None,\n",
    "        zero_weight=1.0,\n",
    "    )\n",
    "except KeyboardInterrupt:\n",
    "    print(\"KeyboardInterrupt: Stopping training early.\")"
   ]
  },
  {
   "cell_type": "code",
   "execution_count": 30,
   "metadata": {},
   "outputs": [
    {
     "name": "stdout",
     "output_type": "stream",
     "text": [
      "Weighted RMSE on validation set: 0.2371\n"
     ]
    }
   ],
   "source": [
    "print(f\"Weighted RMSE on validation set: {evaluate_model(gasdet, x_val, y_val):.4f}\")"
   ]
  },
  {
   "cell_type": "code",
   "execution_count": null,
   "metadata": {},
   "outputs": [],
   "source": [
    "torch.save(gasdet.state_dict(), \"gasdet_base.pth\")"
   ]
  },
  {
   "cell_type": "markdown",
   "metadata": {},
   "source": [
    "## Two-stage approach"
   ]
  },
  {
   "cell_type": "code",
   "execution_count": 3,
   "metadata": {},
   "outputs": [],
   "source": [
    "y_train_classif, y_train_reg = split_classif_reg_targets(y_train)\n",
    "y_val_classif, y_val_reg = split_classif_reg_targets(y_val)"
   ]
  },
  {
   "cell_type": "code",
   "execution_count": 4,
   "metadata": {},
   "outputs": [
    {
     "ename": "",
     "evalue": "",
     "output_type": "error",
     "traceback": [
      "\u001b[1;31mThe Kernel crashed while executing code in the current cell or a previous cell. \n",
      "\u001b[1;31mPlease review the code in the cell(s) to identify a possible cause of the failure. \n",
      "\u001b[1;31mClick <a href='https://aka.ms/vscodeJupyterKernelCrash'>here</a> for more info. \n",
      "\u001b[1;31mView Jupyter <a href='command:jupyter.viewOutput'>log</a> for further details."
     ]
    }
   ],
   "source": [
    "clf_params = {\n",
    "    \"n_estimators\": 50,\n",
    "    \"max_depth\": None,\n",
    "    \"min_samples_split\": 0.005,\n",
    "    \"min_samples_leaf\": 20,\n",
    "    \"random_state\": 29,\n",
    "    \"n_jobs\": -1,\n",
    "}\n",
    "\n",
    "reg_params = { # simple xgboost\n",
    "    \"n_estimators\": 10,\n",
    "    \"random_state\": 29,\n",
    "}\n",
    "\n",
    "two_stage_rf = run_two_stage_rf_experiment(\n",
    "    x_train,\n",
    "    y_train,\n",
    "    y_train_classif,\n",
    "    y_train_reg,\n",
    "    x_val,\n",
    "    y_val,\n",
    "    y_val_classif,\n",
    "    y_val_reg,\n",
    "    clf_params=clf_params,\n",
    "    reg_params=reg_params,\n",
    ")"
   ]
  },
  {
   "cell_type": "code",
   "execution_count": 14,
   "metadata": {},
   "outputs": [
    {
     "name": "stdout",
     "output_type": "stream",
     "text": [
      "Number of trainable parameters: 7321\n"
     ]
    },
    {
     "name": "stderr",
     "output_type": "stream",
     "text": [
      "Epoch 10/10 - Train Loss: 0.1967, Val Loss: 0.5146, LR: 0.001250: 100%|██████████| 10/10 [01:14<00:00,  7.41s/it]\n"
     ]
    },
    {
     "name": "stdout",
     "output_type": "stream",
     "text": [
      "Final Validation Weighted RMSE: 0.5146\n"
     ]
    },
    {
     "data": {
      "image/png": "[encoded data removed]",
      "text/plain": [
       "<Figure size 1000x500 with 1 Axes>"
      ]
     },
     "metadata": {},
     "output_type": "display_data"
    }
   ],
   "source": [
    "params_reg = {\n",
    "    \"model_class\": \"RegressorV3\",\n",
    "    \"model_params\": {\n",
    "        \"hidden_dim\": 64,\n",
    "        \"num_output\": 1,\n",
    "        \"humidity_dim\": 8,\n",
    "        \"group_embed_dim\": 16,\n",
    "        \"bias\": True,\n",
    "        \"dropout_rate\": 0.3,\n",
    "    },\n",
    "    \"training_params\": {\n",
    "        \"n_epochs\": 10,\n",
    "        \"lr\": 5e-3,\n",
    "        \"weight_decay\": 1e-5,\n",
    "        \"batch_size\": 256,\n",
    "        \"patience\": 2,\n",
    "        \"factor\": 0.5,\n",
    "        \"min_lr\": 1e-6,\n",
    "        \"loss\": \"WeightedRMSELoss\",\n",
    "    },\n",
    "}\n",
    "\n",
    "try:\n",
    "    ramtnet_reg = run_nn_experiment(\n",
    "        x_train,\n",
    "        y_train_reg,\n",
    "        x_test,\n",
    "        [(x_val, y_val_reg)],\n",
    "        params=params_reg,\n",
    "        uda=False,\n",
    "        verbose=True,\n",
    "        plot_losses=True,\n",
    "        labels=None,\n",
    "    )\n",
    "except KeyboardInterrupt:\n",
    "    print(\"KeyboardInterrupt: Stopping training early.\")"
   ]
  },
  {
   "cell_type": "markdown",
   "metadata": {},
   "source": [
    "## Predict"
   ]
  },
  {
   "cell_type": "code",
   "execution_count": 20,
   "metadata": {},
   "outputs": [
    {
     "name": "stdout",
     "output_type": "stream",
     "text": [
      "Using 13 features\n"
     ]
    }
   ],
   "source": [
    "write_submissions(\n",
    "    best_rf_model,\n",
    "    test_x_path,\n",
    "    \"submissions_best_rf.csv\",\n",
    "    use_embed=False,\n",
    "    **test_params_pipeline,\n",
    ")"
   ]
  },
  {
   "cell_type": "code",
   "execution_count": null,
   "metadata": {},
   "outputs": [],
   "source": [
    "submit_nn(\n",
    "    \"ramtnet_base.pth\",\n",
    "    \"RAMTNet\",\n",
    "    params_ramt[\"model_params\"],\n",
    "    params_pipeline_dl,\n",
    "    test_x_path,\n",
    "    \"submissions_ramtnet_base.csv\",\n",
    ")"
   ]
  },
  {
   "cell_type": "code",
   "execution_count": null,
   "metadata": {},
   "outputs": [],
   "source": []
  }
 ],
 "metadata": {
  "kernelspec": {
   "display_name": "idgaz",
   "language": "python",
   "name": "python3"
  },
  "language_info": {
   "codemirror_mode": {
    "name": "ipython",
    "version": 3
   },
   "file_extension": ".py",
   "mimetype": "text/x-python",
   "name": "python",
   "nbconvert_exporter": "python",
   "pygments_lexer": "ipython3",
   "version": "3.12.2"
  }
 },
 "nbformat": 4,
 "nbformat_minor": 2
}
